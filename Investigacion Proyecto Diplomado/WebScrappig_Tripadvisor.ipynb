{
 "cells": [
  {
   "cell_type": "code",
   "execution_count": 1,
   "metadata": {},
   "outputs": [],
   "source": [
    "import sys\n",
    "import csv\n",
    "from selenium import webdriver\n",
    "from selenium.webdriver.common.by import By\n",
    "from selenium.webdriver.support.ui import WebDriverWait\n",
    "from selenium.webdriver.support import expected_conditions as EC\n",
    "import time\n",
    "\n",
    "# default path to file to store data\n",
    "path_to_file = \"C://Users/grand/Documents/Diplomado Inteligencia Artificial/CursoAI/Investigacion Proyecto Diplomado/reviews.csv\"\n",
    "\n",
    "# default number of scraped pages\n",
    "num_page = 200\n",
    "\n",
    "# default tripadvisor website of restaurant\n",
    "url = \"https://www.tripadvisor.com/Restaurant_Review-g294074-d1889853-Reviews-Andres_Carne_de_Res-Bogota.html\"\n",
    "\n",
    "# if you pass the inputs in the command line\n",
    "if (len(sys.argv) == 4):\n",
    "    path_to_file = sys.argv[1]\n",
    "    num_page = int(sys.argv[2])\n",
    "    url = sys.argv[3]\n",
    "\n",
    "# Import the webdriver\n",
    "driver = webdriver.Chrome()\n",
    "driver.get(url)\n",
    "\n",
    "# Open the file to save the review\n",
    "csvFile = open(path_to_file, 'a', encoding=\"utf-8\")\n",
    "csvWriter = csv.writer(csvFile)\n",
    "csvWriter.writerow([\"Fecha\", \"Rating\", \"Titulo\", \"Reviews\"])\n",
    "\n",
    "time.sleep(2)\n",
    "#Change the lang of the review to spanish \n",
    "driver.find_element_by_xpath('//*[@id=\"filters_detail_language_filterLang_es\"]').click()\n",
    "\n",
    "# change the value inside the range to save more or less reviews\n",
    "for i in range(0, num_page):\n",
    "    \n",
    "    try:\n",
    "        # expand the review \n",
    "        time.sleep(2)\n",
    "        #driver.find_element_by_xpath(\"//span[@class='taLnk ulBlueLinks']\").click()\n",
    "        WebDriverWait(driver, 20).until(EC.element_to_be_clickable((By.XPATH, \"//span[@class='taLnk ulBlueLinks']\"))).click()\n",
    "    except:\n",
    "        pass\n",
    "      \n",
    "    container = driver.find_elements_by_xpath(\".//div[@class='review-container']\")\n",
    "\n",
    "    for j in range(len(container)):\n",
    "\n",
    "        title = container[j].find_element_by_xpath(\".//span[@class='noQuotes']\").text\n",
    "        date = container[j].find_element_by_xpath(\".//span[contains(@class, 'ratingDate')]\").get_attribute(\"title\")\n",
    "        rating = container[j].find_element_by_xpath(\".//span[contains(@class, 'ui_bubble_rating bubble_')]\").get_attribute(\"class\").split(\"_\")[3]\n",
    "        review = container[j].find_element_by_xpath(\".//p[@class='partial_entry']\").text.replace(\"\\n\", \" \")\n",
    "\n",
    "        csvWriter.writerow([date, rating, title, review]) \n",
    "\n",
    "    # change the page\n",
    "    driver.find_element_by_xpath('.//a[@class=\"nav next ui_button primary\"]').click()\n",
    "    \n",
    "driver.close()"
   ]
  },
  {
   "cell_type": "code",
   "execution_count": null,
   "metadata": {},
   "outputs": [],
   "source": []
  },
  {
   "cell_type": "code",
   "execution_count": null,
   "metadata": {},
   "outputs": [],
   "source": []
  }
 ],
 "metadata": {
  "kernelspec": {
   "display_name": "Python 3",
   "language": "python",
   "name": "python3"
  },
  "language_info": {
   "codemirror_mode": {
    "name": "ipython",
    "version": 3
   },
   "file_extension": ".py",
   "mimetype": "text/x-python",
   "name": "python",
   "nbconvert_exporter": "python",
   "pygments_lexer": "ipython3",
   "version": "3.8.5"
  }
 },
 "nbformat": 4,
 "nbformat_minor": 4
}
