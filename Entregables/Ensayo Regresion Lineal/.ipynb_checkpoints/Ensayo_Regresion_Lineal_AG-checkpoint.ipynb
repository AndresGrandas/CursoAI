{
 "cells": [
  {
   "cell_type": "markdown",
   "metadata": {},
   "source": [
    "# Diplomado de Inteligencia Artificial y Aprendizaje Profundo\n",
    "## Universidad Nacional de Colombia.\n",
    "## Ensayo Regresión Lineal\n",
    "----\n",
    "### Andres Felipe Nieto Grandas\n",
    "### Ingeniero de Sistemas\n",
    "<p>Bogota, 22 de marzo de 2021</p>\n",
    "\n",
    "----\n",
    "\n",
    "## Contenido\n",
    "\n",
    "* [Introducción](#Introducción)\n",
    "* [Historia](#Historia)\n",
    "* [Planteamiento del algortimo](#Planteamiento)\n",
    "* [Ejemplo Real en Python](#Ejemplo)\n",
    "* [Conclusiones](#Conclusiones)\n",
    "\n",
    "----\n"
   ]
  },
  {
   "cell_type": "markdown",
   "metadata": {},
   "source": [
    "## Introducción \n",
    "\n",
    "Entiendase **Regresión Linear** como un set de metodos para modelar la relacion que existe entre una vairable dependiente con una o mas variables independientes, siendo asi un modelo matematico/estadistico que nos ofrece varias maneras de poder predecir nuestro entorno. En las ciencias naturales y ciencias sociales el proposito de regresion es mas amenudo para careacterisar la relación entre entradas y salidas, por otro lado Machine Learning es usualmente mas utilizado en capacidad de predicción. Para el caso se quiere mostrar como funciona este modelo con un sencillo ejemplo el cual nos permitira precedir el precio de vivienda segun el numero de habitaciones que contenga. Así mismo existen regresiones lineales simples que funcionan en torno a una unica variable y regresiones lineales multiples que funcionan en base a multiples variables y nos ayudan a predecir modelos mucho mas complejos. \n",
    "\n"
   ]
  },
  {
   "cell_type": "markdown",
   "metadata": {},
   "source": [
    "## Historia\n",
    "\n",
    "La primera forma de regresión lineal documentada fue el método de los mínimos cuadrados que fue publicada por **Legendre en 1805**, Gauss publicó un trabajo en donde desarrollaba de manera más profunda el método de los mínimos cuadrados, y en dónde se incluía una versión del teorema de **Gauss-Márkov**.\n",
    "\n",
    "El término regresión se utilizó por primera vez en el estudio de variables antropométricas: al comparar la estatura de padres e hijos, donde resultó que los hijos cuyos padres tenían una estatura muy superior al valor medio, tendían a igualarse a este, mientras que aquellos cuyos padres eran muy bajos tendían a reducir su diferencia respecto a la estatura media; es decir, \"regresaban\" al promedio. La constatación empírica de esta propiedad se vio reforzada más tarde con la justificación teórica de ese fenómeno.\n",
    "\n",
    "El término lineal se emplea para distinguirlo del resto de técnicas de regresión, que emplean modelos basados en cualquier clase de función matemática. Los modelos lineales son una explicación simplificada de la realidad, mucho más ágiles y con un soporte teórico mucho más extenso por parte de la matemática y la estadística."
   ]
  },
  {
   "cell_type": "markdown",
   "metadata": {},
   "source": [
    "## Planteamiento\n",
    "\n",
    "### Regresión Lineal \n",
    "\n",
    "----\n",
    "Las regresiones lineares pueden ser las mas simples y las mas populares entre el estandar de las regresiones, en le siglo 19 las regresiones lineales fluyen por unas pocas presunciones.\n",
    "\n",
    "* Se asume que la relacion entre las variables intedendientes **x** y la variable dependiente **y** en linear, y que **y** puede ser expresada como la sumatoria de los pesos **w** de los elementos en **x**, dando algo de ruido o error en las observaciones $\\epsilon$.\n",
    "* Se asume que cualquier error se comporta bien.\n",
    "\n",
    "----\n",
    "\n",
    "## Regresion Lineal Simple\n",
    "\n",
    "Se expresa con la siguiente ecuación:\n",
    "### $$y = w_1x_1 + w_0 + \\epsilon$$\n",
    "\n",
    "por un lado tenemos el termino independiente $W_0$ que nos muestra a que altura la recta corta el eje **Y**, por otro lado tenemos la pendiente $W_1$ que define la inclinación de la recta y conceptualmetne cual es la relacion entre la variable de entrada **X** y la variable de salida **Y**\n",
    "\n",
    "Ejemplo: para el caso propuesto queremos saber cuanto vale una casa con respecto al numero de habitaciones que posee, para lo cual en un plano bidimencional asignamos valores a nuestras variables.\n",
    "\n",
    "$x = 6.0$\n",
    "$y = 20.000$\n",
    "\n",
    "luego de ubicar varios varoles en nuestro plano podemos trazar una linea que nos puede indicar cuales son los precios de las casas que nisiquiera estan en el modelo con un alto grado de presición.\n",
    "\n",
    "Este es un ejemplo simple ya que para el caso solo nos basamos en una variable para predecir, sin embargo en la vida real suele ser un poco mas complejo, para esto utilizaremos la regresion lineal multiple.\n",
    "\n",
    "<img src=\"https://economipedia.com/wp-content/uploads/Regresi%C3%B3n-lineal.png\" width=\"300px\">\n",
    "\n",
    "----\n",
    "\n",
    "## Regresion Lineal Multiple\n",
    "\n",
    "Es igual al modelo de regresión lineal simple pero con mas variables:\n",
    "### $$y = w_1x_1 + w_2x_2 +w_nx_n + w_0 + \\epsilon$$\n",
    "\n",
    "Ejemplo: Para el caso propuesto necesitamos predecir en base a mas de una variable, para este caso el precio de una vivienda no solo depende del $x_1$ = numero de habitaciones si no tambien de factores como lo son, $x_2$ = grado de criminalidad del barrio, $x_3$ = cercania con los centros de negocios.\n",
    "\n",
    "en este caso ya no se trata de encontrar una recta que mejor se ajuste a los datos bidimencionales, sino el mejor plano que se ajuste a la nube de datos tridimencionales.\n",
    "\n",
    "## Mínimos Cuadrados Ordinarios\n",
    "\n",
    "Este metodo minimiza la suma de las distancias verticales entre las respuestas observadas en la muestra y las respuestas del modelo. El parametro resultante puede expresarse a través de la siguiente formula:\n",
    "\n",
    "$$\\beta = (X^{T}X)^{-1}X^{T}Y$$\n",
    "\n",
    "Ejemplo: \n",
    "\n",
    "<img src=\"https://miro.medium.com/max/724/0*gglavDlTUWKn4Loe\" width=\"300px\">\n",
    "\n",
    "----\n",
    "\n",
    "En el lenguaje comun del machine learning se utiliza la siguiente nomeclatura:\n",
    "\n",
    "* **Dataset**/**Trainning Dataset** = Datos de entrenamiento.\n",
    "* **Rows**/**Data Point**,**Sample** = Muestras.\n",
    "* **Y**/**Label**,**Target** = Etiquetas.\n",
    "* **X**/**Features** = Caracteristicas.\n",
    "\n",
    "----\n"
   ]
  },
  {
   "cell_type": "markdown",
   "metadata": {},
   "source": [
    "## Ejemplo"
   ]
  },
  {
   "cell_type": "code",
   "execution_count": 2,
   "metadata": {},
   "outputs": [],
   "source": [
    "# Importamos las librerias necesarias\n",
    "import numpy as np \n",
    "import matplotlib.pyplot as plt"
   ]
  },
  {
   "cell_type": "code",
   "execution_count": 4,
   "metadata": {},
   "outputs": [],
   "source": [
    "# importamos el dataset Load_boston con el que vamos a trabajar\n",
    "from sklearn.datasets import load_boston"
   ]
  },
  {
   "cell_type": "code",
   "execution_count": 6,
   "metadata": {},
   "outputs": [
    {
     "name": "stdout",
     "output_type": "stream",
     "text": [
      ".. _boston_dataset:\n",
      "\n",
      "Boston house prices dataset\n",
      "---------------------------\n",
      "\n",
      "**Data Set Characteristics:**  \n",
      "\n",
      "    :Number of Instances: 506 \n",
      "\n",
      "    :Number of Attributes: 13 numeric/categorical predictive. Median Value (attribute 14) is usually the target.\n",
      "\n",
      "    :Attribute Information (in order):\n",
      "        - CRIM     per capita crime rate by town\n",
      "        - ZN       proportion of residential land zoned for lots over 25,000 sq.ft.\n",
      "        - INDUS    proportion of non-retail business acres per town\n",
      "        - CHAS     Charles River dummy variable (= 1 if tract bounds river; 0 otherwise)\n",
      "        - NOX      nitric oxides concentration (parts per 10 million)\n",
      "        - RM       average number of rooms per dwelling\n",
      "        - AGE      proportion of owner-occupied units built prior to 1940\n",
      "        - DIS      weighted distances to five Boston employment centres\n",
      "        - RAD      index of accessibility to radial highways\n",
      "        - TAX      full-value property-tax rate per $10,000\n",
      "        - PTRATIO  pupil-teacher ratio by town\n",
      "        - B        1000(Bk - 0.63)^2 where Bk is the proportion of blacks by town\n",
      "        - LSTAT    % lower status of the population\n",
      "        - MEDV     Median value of owner-occupied homes in $1000's\n",
      "\n",
      "    :Missing Attribute Values: None\n",
      "\n",
      "    :Creator: Harrison, D. and Rubinfeld, D.L.\n",
      "\n",
      "This is a copy of UCI ML housing dataset.\n",
      "https://archive.ics.uci.edu/ml/machine-learning-databases/housing/\n",
      "\n",
      "\n",
      "This dataset was taken from the StatLib library which is maintained at Carnegie Mellon University.\n",
      "\n",
      "The Boston house-price data of Harrison, D. and Rubinfeld, D.L. 'Hedonic\n",
      "prices and the demand for clean air', J. Environ. Economics & Management,\n",
      "vol.5, 81-102, 1978.   Used in Belsley, Kuh & Welsch, 'Regression diagnostics\n",
      "...', Wiley, 1980.   N.B. Various transformations are used in the table on\n",
      "pages 244-261 of the latter.\n",
      "\n",
      "The Boston house-price data has been used in many machine learning papers that address regression\n",
      "problems.   \n",
      "     \n",
      ".. topic:: References\n",
      "\n",
      "   - Belsley, Kuh & Welsch, 'Regression diagnostics: Identifying Influential Data and Sources of Collinearity', Wiley, 1980. 244-261.\n",
      "   - Quinlan,R. (1993). Combining Instance-Based and Model-Based Learning. In Proceedings on the Tenth International Conference of Machine Learning, 236-243, University of Massachusetts, Amherst. Morgan Kaufmann.\n",
      "\n"
     ]
    }
   ],
   "source": [
    "# Cargamos la libreria\n",
    "boston = load_boston()\n",
    "print(boston.DESCR)"
   ]
  },
  {
   "cell_type": "markdown",
   "metadata": {},
   "source": [
    "----\n",
    "\n",
    "### Formula de minimos cuadrados ordinarios **(MCO)**: \n",
    "$$\\beta = (X^{T}X)^{-1}X^{T}Y$$"
   ]
  },
  {
   "cell_type": "code",
   "execution_count": 39,
   "metadata": {},
   "outputs": [
    {
     "data": {
      "image/png": "[encoded data removed]",
      "text/plain": [
       "<Figure size 432x288 with 1 Axes>"
      ]
     },
     "metadata": {
      "needs_background": "light"
     },
     "output_type": "display_data"
    }
   ],
   "source": [
    "# asignamos los datos de las variables con las que vamos a trabajar.\n",
    "# x_train almacena los datos del numero medio de habitaciones en la columna 5\n",
    "# y_train almacena los valores medios \n",
    "# Luego los convertimos en vectores usando numpy\n",
    "\n",
    "x_train = np.array(boston.data[:, 5]).T\n",
    "y_train = np.array(boston.target)\n",
    "\n",
    "# Graficamos los datos\n",
    "plt.scatter(x_train,y_train, alpha=0.3)\n",
    "\n",
    "# agregamos una columna de unos para separar nuestro termino independiente en la matriz\n",
    "x_train = np.array([np.ones(506),x_train]).T\n",
    "\n",
    "# Aplicamos la formula de los minimos cuadrados\n",
    "# hacemos la multiplicacion matricial de la transpuesta de x_train * x_train y le sacamos la inversa\n",
    "B = np.linalg.inv(x_train.T @ x_train) @ x_train.T @ y_train\n",
    "\n",
    "# graficamos nuestra regresión\n",
    "plt.plot([4,9], [B[0] + B[1] * 4, B[0] + B[1] * 9], c=\"black\")\n",
    "plt.show()"
   ]
  },
  {
   "cell_type": "markdown",
   "metadata": {},
   "source": [
    "## Conclusiones\n",
    "\n",
    "En conclusión el metodo de regresion lineal presenta una clara eficiencia al momento de trabajar datos que tienen un patron que se puede medir linealmente, para el caso de la vivienda se presenta un aumento de alrededor de 5 puntos en el precio por cuarto de mas. Asi mismo su facilidad de compresion utilizando python nos ayuda a aplicar estas predicciones de una manera muy sencilla y rapida."
   ]
  },
  {
   "cell_type": "markdown",
   "metadata": {},
   "source": [
    "## Bibliografia\n",
    "\n",
    "* [WikiPedia](https://es.wikipedia.org/wiki/Regresi%C3%B3n_lineal)\n",
    "* [d2l.ai](https://d2l.ai/d2l-en.pdf)\n",
    "* [DotCSV](https://www.youtube.com/watch?v=k964_uNn3l0&t=464s&ab_channel=DotCSV)\n"
   ]
  },
  {
   "cell_type": "code",
   "execution_count": null,
   "metadata": {},
   "outputs": [],
   "source": []
  }
 ],
 "metadata": {
  "kernelspec": {
   "display_name": "Python 3",
   "language": "python",
   "name": "python3"
  },
  "language_info": {
   "codemirror_mode": {
    "name": "ipython",
    "version": 3
   },
   "file_extension": ".py",
   "mimetype": "text/x-python",
   "name": "python",
   "nbconvert_exporter": "python",
   "pygments_lexer": "ipython3",
   "version": "3.8.5"
  }
 },
 "nbformat": 4,
 "nbformat_minor": 4
}
