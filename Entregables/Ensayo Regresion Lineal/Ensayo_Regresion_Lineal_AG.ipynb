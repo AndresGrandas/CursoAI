{
 "cells": [
  {
   "cell_type": "markdown",
   "metadata": {},
   "source": [
    "# Diplomado de Inteligencia Artificial y Aprendizaje Profundo\n",
    "## Universidad Nacional de Colombia.\n",
    "## Ensayo Regresión Lineal\n",
    "----\n",
    "### Andres Felipe Nieto Grandas\n",
    "### Ingeniero de Sistemas\n",
    "<p>Bogota, 22 de marzo de 2021</p>\n",
    "\n",
    "----\n",
    "\n",
    "**1. Introducción.**\n",
    "</br>\n",
    "**2. Breve historia.**\n",
    "</br>\n",
    "**3. El planteamiento del algortimo.**\n",
    "</br>\n",
    "**4. Desarrollar un ejemplo de regresión lineal, con datos reales.**\n",
    "</br>\n",
    "**5. Conclusiones.**\n",
    "\n",
    "----\n"
   ]
  },
  {
   "cell_type": "markdown",
   "metadata": {},
   "source": [
    "## Introduccion \n",
    "\n"
   ]
  },
  {
   "cell_type": "code",
   "execution_count": null,
   "metadata": {},
   "outputs": [],
   "source": []
  }
 ],
 "metadata": {
  "kernelspec": {
   "display_name": "Python 3",
   "language": "python",
   "name": "python3"
  },
  "language_info": {
   "codemirror_mode": {
    "name": "ipython",
    "version": 3
   },
   "file_extension": ".py",
   "mimetype": "text/x-python",
   "name": "python",
   "nbconvert_exporter": "python",
   "pygments_lexer": "ipython3",
   "version": "3.8.3"
  }
 },
 "nbformat": 4,
 "nbformat_minor": 4
}
