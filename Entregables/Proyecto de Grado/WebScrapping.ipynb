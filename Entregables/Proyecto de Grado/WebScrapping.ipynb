{
 "cells": [
  {
   "cell_type": "markdown",
   "metadata": {},
   "source": [
    "from selenium import webdriver\n",
    "from selenium.webdriver.common.action_chains import ActionChains\n",
    "from selenium.webdriver.common.keys import Keys\n",
    "from bs4 import BeautifulSoup\n",
    "import time\n",
    "import io\n",
    "import pandas as pd\n",
    "\n",
    "\n",
    "#add your chrome driver path here\n",
    "browser = webdriver.Chrome('C://Users/grand/Documents/Diplomado Inteligencia Artificial/CursoAI/Entregables/Proyecto de Grado/chromedriver.exe')\n",
    "\n",
    "#add your google map link whose data you want to scrape\n",
    "browser.get('https://www.google.com/maps/place/Restaurante+Cassarola/@4.7053819,-74.2331616,17z/data=!4m7!3m6!1s0x8e3f77f74bf838d7:0x8cc170c67eb56881!8m2!3d4.7053819!4d-74.2309729!9m1!1b1')\n",
    "actions = ActionChains(browser)\n",
    "\n",
    "browser.maximize_window()\n",
    "time.sleep(3)\n",
    "content = browser.find_element_by_class_name('scrollable-show').click()\n",
    "htmlstring = browser.page_source\n",
    "afterstring=\"\"\n",
    "for i in range(12):\n",
    "    afterstring = htmlstring\n",
    "    actions.send_keys(Keys.PAGE_DOWN).perform()\n",
    "    htmlstring = browser.page_source\n",
    "    if (i>12):\n",
    "        print (\"ended scraping crack test one\")\n",
    "        actions.send_keys(Keys.PAGE_DOWN).perform()\n",
    "        htmlstring = browser.page_source\n",
    "        if (i>12):\n",
    "           print (\"--Scrapping End--\")\n",
    "           break\n",
    "    time.sleep(3)\n",
    "    \n",
    "\n",
    "textdoc = io.open(\"data.txt\", \"a+\", encoding=\"utf-8\")\n",
    "soup = BeautifulSoup(htmlstring,\"html.parser\")\n",
    "mydivs = soup.findAll(\"div\", {\"class\": \"section-review-content\"})\n",
    "counter = 0\n",
    "Reviwer_data ={'Reviewer Name':[],'Reviewer Rating':[],'Reviewer Profile URL':[],'Review':[],'Time':[]}\n",
    "for a in mydivs:\n",
    "    textdoc.write(str(\"\\nReviewer name: \"+a.find(\"div\", class_=\"section-review-title\").text)+\" \\n||Reviewerer Profile URL:\"+ str(a.find(\"a\").get('href')))\n",
    "    textdoc.write(\" \\n||Review:\" + a.find(\"span\", class_=\"section-review-text\").text+\" \\n||Time: \" + a.find(\"span\", class_=\"section-review-publish-date\").text)\n",
    "    textdoc.write(\"\\n\")\n",
    "    textdoc.write(str(a.find(\"span\", class_=\"section-review-stars\")))\n",
    "    textdoc.write(\"=========================================\\n\")\n",
    "    Reviwer_data['Reviewer Name'].append(a.find(\"div\", class_=\"section-review-title\").text)\n",
    "    Reviwer_data['Reviewer Rating'].append(str(a.find(\"span\", class_=\"section-review-stars\")))\n",
    "    Reviwer_data['Reviewer Profile URL'].append(str(a.find(\"a\").get('href')))\n",
    "    Reviwer_data['Review'].append(a.find(\"span\", class_=\"section-review-text\").text)\n",
    "    Reviwer_data['Time'].append(a.find(\"span\", class_=\"section-review-publish-date\").text)\n",
    "    counter = counter + 1\n",
    "print(\"Total reviews scraped:\"+str(counter))\n",
    "textdoc.close()\n",
    "pd.DataFrame(Reviwer_data).to_csv('data.csv',index=0)"
   ]
  },
  {
   "cell_type": "code",
   "execution_count": 48,
   "metadata": {},
   "outputs": [],
   "source": [
    "#WEB SCrapping utilizando Tripadvisor\n",
    "import requests\n",
    "from selenium import webdriver\n",
    "from selenium.webdriver.common.keys import Keys\n",
    "from bs4 import BeautifulSoup\n",
    "import time\n",
    "import pandas as pd"
   ]
  },
  {
   "cell_type": "code",
   "execution_count": 49,
   "metadata": {},
   "outputs": [],
   "source": [
    "#Configuramos el driver de selenium para qeu tome las rutas\n",
    "driver = webdriver.Chrome(executable_path=r'chromedriver')\n",
    "driver.get(\"https://www.tripadvisor.com/Restaurant_Review-g294074-d1889853-Reviews-Andres_Carne_de_Res-Bogota.html\")\n",
    "driver.maximize_window()"
   ]
  },
  {
   "cell_type": "code",
   "execution_count": 26,
   "metadata": {},
   "outputs": [],
   "source": [
    "#Utilizamos selenium para poner interactuar con la pagina por medio de clicks\n",
    "time.sleep(1)\n",
    "buscador = driver.find_element_by_xpath('//*[@id=\"component_6\"]/div/div/form/input[1]')\n",
    "buscador.click()\n",
    "buscador.send_keys('bogota')\n",
    "time.sleep(1)\n",
    "buscador.send_keys(Keys.ENTER)"
   ]
  },
  {
   "cell_type": "code",
   "execution_count": 50,
   "metadata": {},
   "outputs": [],
   "source": [
    "#Buscamos un elemento especifico de nuestra web \n",
    "Siguiente_pagina = driver.find_element_by_xpath('//*[@id=\"filters_detail_language_filterLang_es\"]')\n",
    "Siguiente_pagina.click()\n",
    "time.sleep(1)"
   ]
  },
  {
   "cell_type": "code",
   "execution_count": 51,
   "metadata": {},
   "outputs": [],
   "source": [
    "#Utilizamos BeautifulSoup para copiar la pagina en html dentro de una variable\n",
    "html_txt = driver.page_source\n",
    "soup = BeautifulSoup(html_txt)"
   ]
  },
  {
   "cell_type": "code",
   "execution_count": 52,
   "metadata": {},
   "outputs": [
    {
     "name": "stdout",
     "output_type": "stream",
     "text": [
      "['Andrés La Calera es un buen lugar para escapar un rato del trancón entre Sopó y Bogotá. Aunque las instalaciones...son muy bonitas, la atención es muy pobre (los meseros son distraídos, desordenados, un poco desatentos en algunos casos).\\n\\nFalta profesionalizar al personal de este lugar en el que, por otro lado, los precios continúan siendo bastante altos para la atención que se recibe. \\n\\nPodrían ser mejores si se lo proponen. No solo del buen nombre se vive.More', 'Muy turístico \\nLos músicos en la puerta geniales\\nEl poste muy pequeño \\nHay mejores opciones como viva la vida, seratta....O salvaje \\nTe dan una banda con la bandera del paísMore', 'Es un buen sitio para pasarla bien y compartir pero es algo costoso ....claro es mi opinión al respecto ..del...resto la pase bien y tienen buena atención y servicioMore', 'El dia de ayer despues de un año de encierro lleve a mi madre a Andres Carne de res Santa...fe, entendemos que todo ha cambiado pero por encima se les ve el maximo de reduccion en la calidad , pedimos 4 platos ente carne, salmon y una paella desatroza , la verdad era un arroz amariilo con tres huesos de cerdo, 1 mini camaron, 1 concha de mejillon desocupada, 1 punta de ala y 2 panes franceses tiesos y duros, eso si el recipiente supercaliente mi hijo se quemo con la asa. \\nLa verdad no quise hacer el reclamo alli para no amargarle el rato a mi mama que tiene 72 años y estaba muy emocionada de salir a comer algún lado, pero ese arroz no pasaba de  $5000, no sabia a ningun lado a mariscos ni nada, la carta del restaurante recuerdo que era variada y la verdad la reducción de esta no merece el nombre que tantos años tuvieron, mas bien parece un asadero común en el cual incluso nos hubiera ido mejor, la paella costo $29.900 y la cuenta supero los $200.000, y para solicitarles algo como salsa de tomate o el tradicional picado de tomates fue Re mínimo lo que te ofrecen. Es una lastima, la verdad éramos clientes habituales, muy mal, muy malMore', 'Comida típica con un muy buen sabor, sin duda volvería mil veces más.... la arepa de chocolo es la locura', 'Fui en un día de semana en plena pandemia, pero de igual forma hubo un show super entretenido y la...comida espectacular! comí carne, estaba en el término exacto que la pedí . La atención es de primera y el local es definitivamente super pintoresco y divertido, una curiosidad que no pueden dejar de conocer!.More', 'Ir a Andrés siempre es grato, sus platos tienen un sabor delicioso, amo el ambiente y las excentricidades de sus...colaboradores, me gusta su servicio y el lugarMore', 'Hoy estuve en Bogota visitando el famoso andes de carnes. Todo lo que había escuchado lo comprobé el ambiente la...fiesta, el baile y la súper decoración con colores vivos además de las vacas voladoras. La comida también es una buena experiencia. Le recomiendo las carnes y los camarones. El postre favorito el volcán de chocolate. Buen lugar para divertirse en Bogota.More', 'Fuimos a la sucursal de la Calera a hacer despedida de la oficina, y la verdad pésima la comida, súper...demorada y además carísima. No volveríamos ni lo recomendamos, éste lugar es sólo nombre por qué de calidad no tiene nada.More', 'Hace 6 años no venia a Colombia, vine con mi esposo que es Americano y quisimos ir a Andrés porque...a él se lo habían mencionado demasiado, pero la experiencia fue horrible! El servicio pésimo, la carne súper dura, y lo caro que es para uno no llevarse una buena experiencia. No volveré más nunca cuando regresemos al país. Del Andrés Carne de Res de años atrás ya no queda NADA!More']\n"
     ]
    }
   ],
   "source": [
    "#Hacemos un lista vacia para almacenar cada uno de los restaurantes\n",
    "listaRestaurantes = []\n",
    "#Buscamos en la pagina web todos los elementos que son contenidos en la etiqueda result-title\n",
    "Siguiente_pagina = soup.find_all('div',class_=\"entry\")\n",
    "\n",
    "for restaurante in Siguiente_pagina:\n",
    "    review = restaurante.find('p').getText()\n",
    "    listaRestaurantes.append(review)\n",
    "print(listaRestaurantes)\n",
    "\n",
    "pd.DataFrame(listaRestaurantes).to_csv('data.csv',index=0)"
   ]
  },
  {
   "cell_type": "code",
   "execution_count": null,
   "metadata": {},
   "outputs": [],
   "source": []
  }
 ],
 "metadata": {
  "kernelspec": {
   "display_name": "Python 3",
   "language": "python",
   "name": "python3"
  },
  "language_info": {
   "codemirror_mode": {
    "name": "ipython",
    "version": 3
   },
   "file_extension": ".py",
   "mimetype": "text/x-python",
   "name": "python",
   "nbconvert_exporter": "python",
   "pygments_lexer": "ipython3",
   "version": "3.8.5"
  }
 },
 "nbformat": 4,
 "nbformat_minor": 4
}
