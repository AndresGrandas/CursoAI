{
 "cells": [
  {
   "cell_type": "code",
   "execution_count": 1,
   "metadata": {},
   "outputs": [],
   "source": [
    "import sys\n",
    "import csv\n",
    "from selenium import webdriver\n",
    "from selenium.webdriver.common.by import By\n",
    "from selenium.webdriver.support.ui import WebDriverWait\n",
    "from selenium.webdriver.support import expected_conditions as EC\n",
    "from selenium.webdriver.chrome.options import Options\n",
    "import time\n",
    "import pandas as pd\n",
    "from seaborn import load_dataset\n",
    "from time import sleep\n",
    "import pickle"
   ]
  },
  {
   "cell_type": "code",
   "execution_count": 2,
   "metadata": {},
   "outputs": [],
   "source": [
    "base = 'https://hernancasciari.com/blog/categoria/'\n",
    "urls = []\n",
    "labels = ['renuncio','todos_los_desechos_reservados','los_consejos_de_mi_abuelo_facho','el_mejor_infarto_de_mi_vida','messi_es_un_perro_y_otros_cuentos','el_nuevo_paraiso_de_los_tontos','espana_deci_alpiste','mas_respeto_que_soy_tu_madre','el_pibe_que_arruinaba_las_fotos','charlas_con_mi_hemisferio_derecho']\n",
    "for lbl in labels:\n",
    "    urls.append(base + lbl)"
   ]
  },
  {
   "cell_type": "code",
   "execution_count": 3,
   "metadata": {},
   "outputs": [],
   "source": [
    "path_to_file = \"/home/agrandas/Diplomado AI Proyecto/CursoAI/Entregables/Reto 5/cuentos_hernan_casciari.csv\""
   ]
  },
  {
   "cell_type": "code",
   "execution_count": 4,
   "metadata": {},
   "outputs": [
    {
     "data": {
      "text/plain": [
       "14"
      ]
     },
     "execution_count": 4,
     "metadata": {},
     "output_type": "execute_result"
    }
   ],
   "source": [
    "csvFile = open(path_to_file, 'a', encoding=\"utf-8\")\n",
    "csvWriter = csv.writer(csvFile)\n",
    "#csvWriter.writerow([\"Fecha\", \"Rating\", \"Titulo\", \"Reviews\",\"Tipo_Comida\",\"Puesto\",\"Rating_Comida\",\"Rating_Servicio\",\"Rating_Calidad_Precio\",\"Rating_Ambiente\"])\n",
    "csvWriter.writerow([\"Titulo\",\"texto\"])"
   ]
  },
  {
   "cell_type": "code",
   "execution_count": 12,
   "metadata": {},
   "outputs": [
    {
     "ename": "IndexError",
     "evalue": "list index out of range",
     "output_type": "error",
     "traceback": [
      "\u001b[0;31m---------------------------------------------------------------------------\u001b[0m",
      "\u001b[0;31mIndexError\u001b[0m                                Traceback (most recent call last)",
      "\u001b[0;32m<ipython-input-12-7f69b59d4f7a>\u001b[0m in \u001b[0;36m<module>\u001b[0;34m\u001b[0m\n\u001b[1;32m      8\u001b[0m     \u001b[0mdriver_path\u001b[0m \u001b[0;34m=\u001b[0m \u001b[0;34m'/usr/bin/chromedriver'\u001b[0m\u001b[0;34m\u001b[0m\u001b[0;34m\u001b[0m\u001b[0m\n\u001b[1;32m      9\u001b[0m     \u001b[0mdrvr\u001b[0m \u001b[0;34m=\u001b[0m \u001b[0mwebdriver\u001b[0m\u001b[0;34m.\u001b[0m\u001b[0mChrome\u001b[0m\u001b[0;34m(\u001b[0m\u001b[0moptions\u001b[0m \u001b[0;34m=\u001b[0m \u001b[0moptions\u001b[0m\u001b[0;34m,\u001b[0m \u001b[0mexecutable_path\u001b[0m \u001b[0;34m=\u001b[0m \u001b[0mdriver_path\u001b[0m\u001b[0;34m)\u001b[0m\u001b[0;34m\u001b[0m\u001b[0;34m\u001b[0m\u001b[0m\n\u001b[0;32m---> 10\u001b[0;31m     \u001b[0mdrvr\u001b[0m\u001b[0;34m.\u001b[0m\u001b[0mget\u001b[0m\u001b[0;34m(\u001b[0m\u001b[0murls\u001b[0m\u001b[0;34m[\u001b[0m\u001b[0mk\u001b[0m\u001b[0;34m+\u001b[0m\u001b[0;36m3\u001b[0m\u001b[0;34m]\u001b[0m\u001b[0;34m)\u001b[0m\u001b[0;34m\u001b[0m\u001b[0;34m\u001b[0m\u001b[0m\n\u001b[0m\u001b[1;32m     11\u001b[0m \u001b[0;34m\u001b[0m\u001b[0m\n\u001b[1;32m     12\u001b[0m     \u001b[0mSCROLL_PAUSE_TIME\u001b[0m \u001b[0;34m=\u001b[0m \u001b[0;36m10\u001b[0m\u001b[0;34m\u001b[0m\u001b[0;34m\u001b[0m\u001b[0m\n",
      "\u001b[0;31mIndexError\u001b[0m: list index out of range"
     ]
    }
   ],
   "source": [
    "filename = \"/home/agrandas/Diplomado AI Proyecto/CursoAI/Entregables/Reto 5/cuentos.txt\"\n",
    "fileout = open(filename, 'a')\n",
    "textos = []\n",
    "\n",
    "for k in range(len(urls)):\n",
    "    options = Options()\n",
    "    options.binary_location = '/usr/bin/brave-browser'\n",
    "    driver_path = '/usr/bin/chromedriver'\n",
    "    drvr = webdriver.Chrome(options = options, executable_path = driver_path)\n",
    "    drvr.get(urls[k+3])\n",
    " \n",
    "    SCROLL_PAUSE_TIME = 10\n",
    "\n",
    "    # Get scroll height\n",
    "    last_height = drvr.execute_script(\"return document.body.scrollHeight\")\n",
    "\n",
    "    while True:\n",
    "        # Scroll down to bottom\n",
    "        drvr.execute_script(\"window.scrollTo(0, document.body.scrollHeight);\")\n",
    "      \n",
    "        # Wait to load page\n",
    "        time.sleep(SCROLL_PAUSE_TIME)\n",
    "\n",
    "        #Calculate new scroll height and compare with last scroll height\n",
    "        new_height = drvr.execute_script(\"return document.body.scrollHeight\")\n",
    "        if new_height == last_height:\n",
    "            break\n",
    "        last_height = new_height\n",
    "\n",
    "    container = drvr.find_elements_by_xpath(\".//article[@class='tarjeton col-sm-6']\")\n",
    "\n",
    "    for j in range(len(container)-1):\n",
    "        text = container[j].find_element_by_xpath(f\".//p[contains(@class, 'entradilla')]\").text    \n",
    "        #//*[@id=\"contenidos\"]/section[2]/div[2]/div/article[1]/div/p/p\n",
    "        \n",
    "        textos.append(text)\n",
    "        fileout.write(text)\n",
    "        \n",
    "    drvr.close()\n",
    " \n",
    "    #!mkdir blog\n",
    "    #for i, c in enumerate(labels):\n",
    "\n",
    "    \n",
    "        "
   ]
  },
  {
   "cell_type": "code",
   "execution_count": null,
   "metadata": {},
   "outputs": [],
   "source": []
  }
 ],
 "metadata": {
  "kernelspec": {
   "display_name": "Python 3",
   "language": "python",
   "name": "python3"
  },
  "language_info": {
   "codemirror_mode": {
    "name": "ipython",
    "version": 3
   },
   "file_extension": ".py",
   "mimetype": "text/x-python",
   "name": "python",
   "nbconvert_exporter": "python",
   "pygments_lexer": "ipython3",
   "version": "3.8.5"
  }
 },
 "nbformat": 4,
 "nbformat_minor": 4
}
