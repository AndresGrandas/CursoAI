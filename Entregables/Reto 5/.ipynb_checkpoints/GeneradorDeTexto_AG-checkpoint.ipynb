{
 "cells": [
  {
   "cell_type": "markdown",
   "metadata": {
    "id": "CK45WNYajXNy"
   },
   "source": [
    "# <span style=\"color: black;\"><center>Diplomado de Inteligencia Artificial y Aprendizaje Profundo</center></span>\n"
   ]
  },
  {
   "cell_type": "markdown",
   "metadata": {
    "id": "Z99KYIGULxFo"
   },
   "source": [
    "# <span style=\"color: purple;\"><center>Generador de Texto</center></span>"
   ]
  },
  {
   "cell_type": "markdown",
   "metadata": {
    "id": "GtFniJ4NLxXl"
   },
   "source": [
    "## <span style=\"color: black;\">Presentado por:</span>"
   ]
  },
  {
   "cell_type": "markdown",
   "metadata": {
    "id": "fA1d6i4DLxfN"
   },
   "source": [
    "## <span style=\"color: purple;\">Andrés Felipe Nieto Grandas</span>"
   ]
  },
  {
   "cell_type": "markdown",
   "metadata": {
    "id": "l3OBrvJgLxjM"
   },
   "source": [
    "### <span style=\"color: purple;\">Introducción</span>"
   ]
  },
  {
   "cell_type": "markdown",
   "metadata": {
    "id": "qgWXbejNLxmY"
   },
   "source": [
    "**<p>En este cuaderno me propongo a ilustrar el proceso de preparacion de datos, modelamiento y entrenamiento de una maquina capáz de crear texto a partir de una sentencia de entrada.</p>**"
   ]
  },
  {
   "cell_type": "markdown",
   "metadata": {
    "id": "dYonYoc_LxzL"
   },
   "source": [
    "### <span style=\"color: purple;\">Importamos las librerias</span>"
   ]
  },
  {
   "cell_type": "code",
   "execution_count": 1,
   "metadata": {
    "colab": {
     "base_uri": "https://localhost:8080/"
    },
    "executionInfo": {
     "elapsed": 1597,
     "status": "ok",
     "timestamp": 1622422678808,
     "user": {
      "displayName": "Andres Felipe Nieto Grandas",
      "photoUrl": "https://lh3.googleusercontent.com/a-/AOh14GiVwnHrOcAcuO7hAAvGfu388UdN50UtNnedLL27=s64",
      "userId": "12110662847858295180"
     },
     "user_tz": 300
    },
    "id": "P-AhVYeBWgQ3",
    "outputId": "b4816a5c-1222-4121-f5ab-a615331b11d0"
   },
   "outputs": [
    {
     "name": "stdout",
     "output_type": "stream",
     "text": [
      "2.5.0\n"
     ]
    }
   ],
   "source": [
    "import tensorflow as tf\n",
    "print(tf.__version__)\n",
    "\n",
    "# !pip install -q tensorflow-datasets"
   ]
  },
  {
   "cell_type": "code",
   "execution_count": 26,
   "metadata": {
    "colab": {
     "base_uri": "https://localhost:8080/"
    },
    "executionInfo": {
     "elapsed": 809,
     "status": "ok",
     "timestamp": 1622423130111,
     "user": {
      "displayName": "Andres Felipe Nieto Grandas",
      "photoUrl": "https://lh3.googleusercontent.com/a-/AOh14GiVwnHrOcAcuO7hAAvGfu388UdN50UtNnedLL27=s64",
      "userId": "12110662847858295180"
     },
     "user_tz": 300
    },
    "id": "BOwsuGQQY9OL",
    "outputId": "1d3aed3b-35a1-48d7-d541-9934af3f22ea"
   },
   "outputs": [
    {
     "name": "stdout",
     "output_type": "stream",
     "text": [
      "[nltk_data] Downloading package punkt to /root/nltk_data...\n",
      "[nltk_data]   Package punkt is already up-to-date!\n",
      "[nltk_data] Downloading package stopwords to /root/nltk_data...\n",
      "[nltk_data]   Package stopwords is already up-to-date!\n",
      "[nltk_data] Downloading package wordnet to /root/nltk_data...\n",
      "[nltk_data]   Package wordnet is already up-to-date!\n"
     ]
    }
   ],
   "source": [
    "from tensorflow.keras.preprocessing.sequence import pad_sequences\n",
    "from tensorflow.keras.layers import Embedding, LSTM, Dense, Dropout, Bidirectional\n",
    "from tensorflow.keras.preprocessing.text import Tokenizer\n",
    "from tensorflow.keras.models import Sequential\n",
    "from tensorflow.keras.optimizers import Adam\n",
    "from tensorflow.keras import regularizers\n",
    "from tensorflow.keras.utils import to_categorical\n",
    "import keras.utils as ku \n",
    "import numpy as np \n",
    "\n",
    "from tensorflow.keras.utils import plot_model\n",
    "\n",
    "import nltk\n",
    "from nltk.tokenize import sent_tokenize, word_tokenize \n",
    "from nltk.tokenize import TweetTokenizer\n",
    "\n",
    "# diccionarios especiales para puntuación y palabras vacias\n",
    "nltk.download('punkt') # Manejo de puntuación\n",
    "nltk.download('stopwords')\n",
    "\n",
    "# wordnet\n",
    "nltk.download('wordnet')\n",
    "\n",
    "from nltk.corpus import stopwords\n",
    "\n",
    "# lematizador basado en WordNet de nltk\n",
    "from nltk.stem import WordNetLemmatizer \n",
    "\n",
    "# steemer de nltk. Raiz de las palabras\n",
    "#from nltk.stem import SnowballStemmer\n",
    "import pandas as pd\n",
    "import numpy as np\n",
    "import statistics as st \n",
    "import matplotlib.pyplot as plt\n",
    "import seaborn as sb\n",
    "import tensorflow as tf\n",
    "import re\n",
    "\n",
    "import gensim\n",
    "from gensim.parsing.preprocessing import STOPWORDS"
   ]
  },
  {
   "cell_type": "markdown",
   "metadata": {
    "id": "YUchZM1SjXN7"
   },
   "source": [
    "### <span style=\"color: purple;\">Leemos los datos desde google drive</span>"
   ]
  },
  {
   "cell_type": "code",
   "execution_count": 3,
   "metadata": {
    "colab": {
     "base_uri": "https://localhost:8080/"
    },
    "executionInfo": {
     "elapsed": 51208,
     "status": "ok",
     "timestamp": 1622422732604,
     "user": {
      "displayName": "Andres Felipe Nieto Grandas",
      "photoUrl": "https://lh3.googleusercontent.com/a-/AOh14GiVwnHrOcAcuO7hAAvGfu388UdN50UtNnedLL27=s64",
      "userId": "12110662847858295180"
     },
     "user_tz": 300
    },
    "id": "bW35Wh_Wjjik",
    "outputId": "ebe21365-e1fd-4782-a568-83715f94dd70"
   },
   "outputs": [
    {
     "name": "stdout",
     "output_type": "stream",
     "text": [
      "Mounted at /content/gdrive\n"
     ]
    }
   ],
   "source": [
    "from google.colab import drive\n",
    "drive.mount('/content/gdrive', force_remount=True)"
   ]
  },
  {
   "cell_type": "code",
   "execution_count": 12,
   "metadata": {
    "executionInfo": {
     "elapsed": 151,
     "status": "ok",
     "timestamp": 1622422750412,
     "user": {
      "displayName": "Andres Felipe Nieto Grandas",
      "photoUrl": "https://lh3.googleusercontent.com/a-/AOh14GiVwnHrOcAcuO7hAAvGfu388UdN50UtNnedLL27=s64",
      "userId": "12110662847858295180"
     },
     "user_tz": 300
    },
    "id": "IHWEJnZojrf4"
   },
   "outputs": [],
   "source": [
    "ruta = 'gdrive/My Drive/Colab Notebooks/Reto 5/cuentos.txt'"
   ]
  },
  {
   "cell_type": "markdown",
   "metadata": {
    "id": "T8vIo5MCMZsZ"
   },
   "source": [
    "## <span style=\"color: purple;\">eliminamos comas y otro caracter especial</span>"
   ]
  },
  {
   "cell_type": "code",
   "execution_count": 13,
   "metadata": {
    "executionInfo": {
     "elapsed": 185,
     "status": "ok",
     "timestamp": 1622422751361,
     "user": {
      "displayName": "Andres Felipe Nieto Grandas",
      "photoUrl": "https://lh3.googleusercontent.com/a-/AOh14GiVwnHrOcAcuO7hAAvGfu388UdN50UtNnedLL27=s64",
      "userId": "12110662847858295180"
     },
     "user_tz": 300
    },
    "id": "_AwZXvRdjXN8"
   },
   "outputs": [],
   "source": [
    "data = open(ruta, encoding=\"utf8\").read()\n",
    "data = data.replace(',', '')\n",
    "data = data.replace('«', '')\n",
    "data = data.replace('»', '')\n"
   ]
  },
  {
   "cell_type": "code",
   "execution_count": 6,
   "metadata": {
    "colab": {
     "base_uri": "https://localhost:8080/"
    },
    "executionInfo": {
     "elapsed": 9,
     "status": "ok",
     "timestamp": 1622422733192,
     "user": {
      "displayName": "Andres Felipe Nieto Grandas",
      "photoUrl": "https://lh3.googleusercontent.com/a-/AOh14GiVwnHrOcAcuO7hAAvGfu388UdN50UtNnedLL27=s64",
      "userId": "12110662847858295180"
     },
     "user_tz": 300
    },
    "id": "GqmOd2H7w0X1",
    "outputId": "b43fe942-3167-425d-9301-e80c1f8b770b"
   },
   "outputs": [
    {
     "name": "stdout",
     "output_type": "stream",
     "text": [
      "['esta semana leí que en la ciudad de buenos aires el 80% de los matrimonios se separa antes de los diez años de convivencia', ' un porcentaje de error enorme', ' y a pesar de esa estadística en este momento de la mañana en alguna oficina en alguna plaza de buenos aires dos personas desconocidas empiezan a charlar (ahora mismo debe estar pasando) y se gustan', ' y así empiezan de a poco a convertirse en el ochenta por ciento de la década que viene', 'desde hace años viajo mucho y como odio los hoteles elijo casas por internet', ' los anfitriones las ponen a disposición y nosotros los huéspedes las habitamos', ' a veces una semana a veces tres días', ' para no tener sorpresas suelo prestar atención a las evaluaciones que otros hicieron de las casas a las que iré', ' y siempre elijo anfitriones confiables', ' el diciembre pasado alquilé una casa de fin de semana en montevideo', ' la elegí lejos del centro y me equivoqué porque justo me infarté en el living y casi me muero', 'era un loft hermoso amplio casi sin muebles', ' lo más caro que le compré fue un sommier de plaza y media con resortes bicónicos porque en 1998 lo único que me importaba era dormir', ' se lo alquilaba a un alemán viudo que vivía en el primer piso con su hija', ' hans era un pelado de ojos tristes que recibía el deutsche post', ' sandra tenía mi edad unos veintisiete', ' cuando hans me alquiló la casa y me explicó los detalles no me avisó que su hija tenía problemas', 'escribo esto la tarde del veintisiete de octubre de 2014 mientras espero que mauro se olvide de pagar la cuota trienal del dominio casciari', 'com', ' no creo que ocurra porque es un tano muy despierto y metódico pero por las dudas tengo la tarjeta de crédito a mano', ' ya hice guardia vana en 2008 en 2011 y me toca de nuevo hoy', ' pero esta vez no estoy solo en la trinchera: me acompaña mi hija', 'durante media vida lo más trágico que puede pasar es tu propia muerte egoísta pero entonces llega algo y ¡zas! te cambia para siempre el epicentro del miedo', ' yo descubrí esto arriba de un taxi', ' un rato antes me habían pagado un dinero que no esperaba por algo que ni siquiera era un trabajo', ' entonces decidí no viajar desde la capital a la plata en un micro mugriento porque lo mínimo que podés comprar con plata inesperada es comodidad', ' el problema es que elegí a un taxista que estaba a punto de cruzar un límite', 'hoy se cumplen veinte años de la peor desgracia de nuestra juventud y es hora de que la cuente', ' cuando sos joven y te mandás una cagada le echás la culpa a la imprudencia', ' pero la crueldad no es joven ni es vieja', ' durante estos años me quise convencer de que todo fue una fatalidad', ' pero no: lo que le pasó al colorado ulmer la madrugada del 14 de agosto de 1994 fue sobre todo culpa nuestra', 'hace unos meses recibí un mail de una revista de bruselas: me querían hacer un reportaje telefónico', ' les dije que sí y tuvimos una charla por skype muy simpática nunca supe muy bien sobre qué', ' después me olvidé de todo hasta hace dos semanas que me escribieron de nuevo', ' ahora me pedían permiso para mandar a un dibujante a casa', ' me pareció extraño porque en general mandan fotógrafos pero les dije que bueno', 'estoy en san josé de costa rica y llueve', ' acabo de pedir un café y abro la portátil', ' de repente aparezco etiquetado en una foto de facebook y pienso que se trata de un error porque a primera vista no me veo en la imagen', ' es nomás un segundo menos incluso de un segundo hasta que entiendo', ' me quedo mirando la foto con los ojos abiertos y sin pestañear; pasa un rato después otro rato y mi gesto sigue congelado', 'érase un pueblo tranquilo en el que habitaban muchos vecinos tranquilos', ' todos llevaban una vida agradable y sencilla y cada uno deseaba prosperar', ' pepe era uno de ellos', ' una tarde pepe salió a caminar por el pueblo y tuvo sed', ' siguió caminando y tuvo más sed', ' cuando volvió a su casa y mientras descorchaba una botella descubrió algo que nadie había descubierto antes: en el pueblo no había bares', 'menos de once segundos antes cuando el jugador argentino recibe el pase de un compañero el reloj en méxico marca las trece horas doce minutos y veinte segundos', ' en la escena central hay también dos británicos y un hombre algo mayor de origen tunecino', ' el deporte al que juegan el fútbol no es muy popular en túnez', ' por eso el africano parece el único que no está en actitud de alarma atlética', 'lo que voy a contar pasó cuando todavía existían las pesetas exactamente el día que me quedé sin ninguna', ' con treinta años recién cumplidos yo vivía en una pensión del barrio de gràcia', ' una cama un escritorio el baño afuera', ' hacía poco que estaba en barcelona y cristina ya me había empezado a pagar los cigarros', 'la respuesta rápida es por mi hija por mi esposa porque tengo una familia catalana', ' pero si me preguntan en serio por qué sigo acá en barcelona en estas épocas horribles y aburridas es porque estoy a cuarenta minutos en tren del mejor fútbol de la historia', 'en algún momento de este siglo descubrí que ya no quería escribir más como antes', ' quiero decir: nunca más a solas con la olivetti en la cocina viendo crecer las páginas sin mostrarle a nadie cada capítulo o cada cuento sin la invasión permanente de los lectores sin la adrenalina del borrador a la vista', 'resulta que no hace mucho publiqué en este blog una historia de amor tetas que me ocurrió a los ocho años', ' los personajes que aparecían en el cuento eran compañeros de tercer grado que no vi nunca más porque al año siguiente me cambiaron de curso', ' como en la historia usé nombres y apellidos reales uno de aquellos compañeros juan josé bugarín me escribió un correo electrónico tan pronto se vio mencionado', 'tengo infinidad de recuerdos infantiles alrededor del tema', ' elijo uno al azar', ' una vez en un recreo alguien notó que yo tenía tetas', ' y otro que estaba en el mismo grupo dijo: tenés suerte gordo podés tocar una teta cuando quieras', ' me lo dijo de verdad no era un chiste', ' esa mañana yo tenía siete años y estaba enamorado de paola soto', ' a la noche me miré al espejo y me pregunté cómo era posible tener más tetas que el amor de mi vida', ' no me pareció bueno experimentar el romanticismo en desventaja', 'anoche le contaba a la nina un cuento infantil muy famoso el hansel y gretel de los hermanos grimm', ' en el momento más tenebroso de la aventura los niños descubren que unos pájaros se han comido las estratégicas bolitas de pan un sistema muy simple que los hermanitos habían ideado para regresar a casa', ' hansel y gretel se descubren solos en el bosque perdidos y comienza a anochecer', ' mi hija me dice justo en ese punto de clímax narrativo: \"no importa', ' que lo llamen al papá por el móvil\"', 'íbamos en un taxi por la avenida álvarez thomas', ' al llegar a la esquina de la calle lugones el semáforo nos detuvo y entonces pude mostrarle a mi hija la fachada de la casa: mirá nina fue ahí; en ese balconcito el chiri me acuchilló', ' mi hija alzó la cabeza y vio la ventana triste que todavía veinte años después estaba sin pintar', ' se emocionó al reconocer el escenario: fue como si hubiera llegado al bosque original de caperucita y el lobo', ' después me pidió que le mostrara la cicatriz y que le contara otra vez el cuento', 'voy a contar algo que ocurrió hace un mes y que por un momento nos pareció un milagro de entrecasa', ' podría narrar el milagro sin dar a conocer su lógica interna escondiéndoles a ustedes la explicación que lo desbarata', ' pero no haré eso porque me quedaría un cuentito fantástico y nada más', ' voy a narrar los hechos sin trucos', ' ustedes verán a las marionetas pero también los hilos que las mueven', ' dicho esto la historia empieza con una mujer sentada en un sillón y sigue con una chica de once años que va en coche por la ruta', 'salir de casa para cenar con gente implica una serie de actividades molestas: bañarse vestirse perderse un partido de la eurocopa comprar un vino caro sonreír dos horas sin ganas a veces tres', ' que te acompañen por las habitaciones para que veas una casa que no te importa', ' dejar a tu hija con los abuelos extrañarla', ' cenar sin tele sin cocacola comer ensalada de primer plato no desentonar no fumar si no hay ceniceros a la vista', ' muchísimo menos sacar la bolsita feliz', ' son demasiadas cosas para la edad que tengo', 'los que vivimos tan lejos con un atlántico en el medio tenemos un tema tabú', ' sabemos (nos aterra saberlo) que alguna vez tendremos que sacar un pasaje urgente viajar doce horas en avión con los ojos desencajados para asistir al entierro de uno de nuestros padres que ha muerto sin nuestra cercanía', ' es un asunto horrible que ocurre tarde o temprano por ley natural', ' no es una posibilidad es una verdad trágica que nos acecha cada vez que suena el teléfono de madrugada', ' pues bien', ' mi teléfono ha sonado', 'a las bromas telefónicas las llamábamos cachadas y eran tan antiguas como el teléfono', ' había una gran variedad de métodos pero casi todos tenían como objeto molestar a un interlocutor desprevenido; sacarlo de las casillas desubicarlo', ' con el chiri nos convertimos en expertos cuando promediábamos el secundario', ' éramos magos al teléfono', ' pero entonces ocurrió una desventura que nos obligó a abandonar el profesionalismo', ' una historia que aún hoy nos recuerda que llevamos la maldad dentro del cuerpo', 'hay dos clases de miserables que te tocan el timbre antes de las nueve: los vendedores y los cobradores', ' sólo se diferencian en que los cobradores no sonríen cuando les abrís', ' el que me tocó el timbre ayer era un vendedor', ' tenía esa sonrisa amable que pide a gritos una trompada', ' yo en piyama no tuve reflejos ni para cerrarle la puerta en la nariz', ' entonces él sacó una planilla me miró y dijo algo que no estaba en mis planes', '—no quiero saber qué va a pasar conmigo no quiero saber qué va a pasar con las personas que quiero', ' no quiero que se te escape una sola palabra ambigua; no quiero pistas', ' respetá mi vida woung respetá la felicidad de este noviembre en donde nadie se me ha muerto quiero seguir acá un tiempo no quiero que la sombra de tus datos me tapen el solcito— le dije a mi tataranieto— lo que yo quiero saber del futuro es lo superficial el chusmerío; soy demasiado cagón para todo lo que importa', 'el 14 de noviembre de 1995 maté sin querer a la hija mayor de mi hermana haciendo marchatrás con el auto', ' entre el impacto seco los gritos de pánico de mi familia y el descubrimiento de que en realidad había chocado contra un tronco ocurrieron los diez segundos más intensos de mi vida', ' diez segundos durante los que me aferré al tiempo y supe que todo futuro posible sería un infierno interminable', '¿y qué pasa si el viejo sueño revolucionario comunista y utópico de un mundo libre de vil metal acabara siendo qué paradoja el fin último del capitalismo? ¿qué pasaría si realmente pudiéramos vivir sin dinero en efectivo sin billetes ni monedas? solos con nuestras tarjetas de créditos', ' ¿se podría?las cosas empezaron con mal pie', ' un grupo de editoriales en castellano encabezadas por planeta random house mondadori santillana wolters kluwer sm grup62 roca editorial anagrama maeva y siruela se unieron en un portal del internet llamado libranda para ofrecer al público el mayor catálogo de libros electrónicos en idioma español', ' hasta aquí ningún problema incluso al contrario', ' hace un par de meses en esta columna hablé del problema catalán si españa se consagraba campeona del mundo en fútbol', ' qué extraña será la sensación de los jugadores catalanes si alzan el trofeo en sudáfrica escribí entonces', ' debo advertir antes que nada que no sé cómo salió el partido entre argentina y alemania', ' no sé si a estas horas del domingo mientras ustedes leen el diario estaremos felices o estaremos tristes', ' hoy para mí es viernes y el partido todavía no se jugó', ' como ven tengo la ridícula misión de escribir mi columna un día viernes para que se publique el domingo: son las leyes de la imprenta', ' en la selección argentina hay tres opciones de mitos griegos: se espera de ellos que aparezcan y reviertan una historia predestinada al fracaso', ' uno es messi que estuvo a punto de dejar el equipo en las eliminatorias —por la presión exagerada y las dudas de sus compatriotas— y que ahora busca su redención', ' otro es como siempre maradona que si consigue llevar a sus dirigidos a un 11 de julio glorioso se convertirá en directamente en zeus sin prórroga ni penales', ' la primera vez que pensé en el futuro fue una tarde de invierno de 1978 en la platea de la cancha de river', ' paolo rossi acababa de meterle un gol a austria', ' era la primera vez que yo estaba en un mundial y la suerte había querido que fuera en casa', ' me resultó conmovedora esa fiesta de los ojos todos aquellos gritos y colores y le pregunté a mi papá cada cuánto tiempo habría mundiales en la vida', ' este será el tercer mundial de fútbol que me toque vivir en barcelona y no me acostumbro a la falta de fervor de los catalanes para con la selección española a la que no sienten como propia', ' es difícil explicar lo que sentimos estando aquí tan lejos cuando nos llegan de argentina buenas noticias', ' aunque parezca mezquino (y no lo es) la felicidad se nos empaña con el aliento de una tristeza vaga', ' ¿a que cuesta explicar la patria en abstracto? ustedes los que viven en ella están casi obligados a hacerlo en estos días por culpa del bicentenario', ' se rompen la cabeza para encontrarle una respuesta a dos preguntas: ¿qué es argentina? ¿qué es ser argentino?a quince días del bicentenario la comunidad de argentinos que vivimos en españa sentimos que nuestro festejo parecerá un oxímoron', ' ¿vamos a festejar qué? si en españa ni siquiera se le llama comunidad al grupo de personas que comparten raíz: le llaman colectivo', ' un programa de televisión humilla y alarma a poblaciones indígenas para hacer una broma solidaria titulaba con letras de molde un periódico digital español el jueves pasado y mostraba imágenes de niños correntinos llorando cuando un actor disfrazado de empresario canadiense fingía mandar a una topadora a borrar del mapa un colegio o expropiar unas tierras', ' mientras escribo esta columna de papel hay otra columna de humo que comienza a disiparse por voluntad propia', ' el cielo de europa vuelve a parecerse a un cielo y los aeropuertos de más de quince países regresan a la normalidad después de dos semanas de cancelaciones retrasos y aplazamientos', ' la estupefacción mundial por el probable enjuiciamiento en españa de baltasar garzón le llama muchísimo la atención a los españoles que parecen descubrir ahora cuánto se respeta al magistrado fuera de sus fronteras', ' a raíz de una espantosa confusión (que involucra un casete de chistes verdes de jorge corona colocado en el sitio incorrecto) mi hija de cinco años cree que el vocablo guerra es una mala palabra', ' algo ocurrió esta semana pero se me escapa el qué', ' no entiendo nada sobre todo lo que se escribe y se dice alrededor del gran colisionador de hadrones (lhc por sus siglas en inglés)', ' los escándalos por pederastia en ciertos sectores de la iglesia católica que aturden a irlanda alemania francia y gran bretaña comienzan a oírse con mayor recelo pero con firmeza también en españa e italia países donde la fe católica está más arraigada', ' hubo un tiempo en que a las personas que compartían una misma lengua en diferentes regiones (méxico argentina españa) les resultaba imposible o por lo menos carísimo conversar', ' según aparece esta semana en la prensa la pregunta más buscada en google con más de sesenta y ocho millones de resultados es cómo se hace el amor', ' pobre messi', ' esta semana después del partido con alemania en múnich la prensa española tituló con mala leche: argentina hunde a messi', ' que en idioma más neutro sería decir que un equipo gris no deja lucir al niño mimado a la luz de sus ojos', ' hay una licencia poética latinoamericana que al español medio le gusta poco y tiene que ver con la utilización del gentilicio ‘gallego’', ' no solo se enfadan por incomprensión de sinécdoque (ese tropo por el cual representamos la parte por el todo) sino que también se molestan porque en algunos países la palabrita es sinónimo de tonto o poco espabilado', ' es decir se enojan también por incomprensión de metonimia', ' aquí en españa existe una organización que se llama ocu —organización de consumidores y usuarios— que intenta casi siempre con poca suerte defender a las personas comunes de los despropósitos de las grandes empresas de servicios', ' leo en la prensa económica que entre las varias empresas que tienen pensado salir a bolsa este año se encuentra polaroid y me sorprende leer el nombre de esa marca tantos años después justo ahora que la fotografía doméstica se ha convertido en una colección infinita y sin sentido', ' el año pasado una serie norteamericana muy famosa hizo aparecer a uno de sus personajes leyendo una novela de bioy casares', ' la serie se llama lost y la novela de bioy es la invención de morel', 'hace diez años que vivo en españa a miles de kilómetros de casa', ' cuando estás lejos una forma de no perder tu identidad es subrayar delante de los nativos las virtudes de la propia tierra', ' se llama chovinismo pero también se llama orgullo', 'leí esta semana que benedicto xvi se reunió con susanna maiolo la muchacha italiana que mientras se celebraba en roma la misa de gallo pasada se le tiró encima y lo hizo caer', ' ¡y la perdonó! un estudio indica', ' otro revela', ' otro asegura', ' en su afán por confundirse con el cambalache de internet la mala prensa aprovecha el verano para perder el norte', ' malos tiempos para la prensa tradicional del mundo entero', ' se acaba el año y los datos son los peores en décadas: el new york times anunció cien despidos en octubre time warner despidió a quinientos trabajadores de sus revistas un mes más tarde la bbc recortó sueldos y puestos directivos hubo otros cien despidos en la editora de the guardian mientras que aquí en españa la editorial que imprime revistas como marie claire cosmopolitan muy interesante o mía recortó noventa y tres puestos de trabajo hace unos días', ' cuando buscamos en el diccionario de la rae la palabra nazismo nos deriva a nacionalsocialismo; y allí dice que se trata de un movimiento político y social del tercer reich alemán de carácter pangermanista fascista y antisemita', ' un debate ético está poniendo los pelos de punta al gobierno español', ' la historia comenzó hace cincuenta días cuando un grupo de piratas somalíes secuestró un barco atunero vasco en el océano índico', ' en europa hay crisis pero no proliferan las salas de bingo ni la lotería clandestina ni la adicción a la hípica como quizás ocurre en los países emergentes', ' algunos países europeos tienen por costumbre realizar un torneo de fútbol profesional en el cual los equipos grandes y millonarios se ven las caras (por única vez) con los clubes chicos de segunda división regional', ' en españa se llama copa del rey y da comienzo todos los años por estas épocas', 'todavía no he visto a nadie en el tren con un libro electrónico (ebook para los modernos) pero las grandes empresas ya se están pujando para posicionarse en el mercado', ' saben por experiencia que hay que apostar a la monopolización de las costumbres', 'algunos padecemos de un terror extraño que también conlleva una pizca de esperanza: la de ser enterrados en un cajón de madera sin estar muertos del todo', ' nos avergonzó mucho saber estos días que la contraseña que más usamos los seres humanos para resguardar nuestros correos es 123456', ' de repente de un día para el otro descubren soluciones simples que hubieran sido fantásticas conocer mucho antes', ' de a poco se diluye la moda horrible de buscar a cantantes deportistas y famosos para hacer un poco más atractivos o cercanos a los partidos políticos', ' los problemas más graves de la sociedad los que son de verdad incontrolables a veces se solucionan con una creatividad sencilla', 'aquí en españa el negocio del fútbol también genera divisiones políticas debates llamadas de trasnoche y comisiones millonarias', ' en este momento mientras escribo se están repartiendo la torta del mismo modo que en argentina', ' cuando joe dimaggio se separó de marilyn le vendió a un tal richard poncher uno de los nichos donde la famosísima (pero efímera) pareja pensaba descansar en paz', 'está semana quedó demostrado que un mismo suceso puede servir tanto para infamar a los nuevos métodos digitales de la información como para denostar a los soportes tradicionales', ' ¿en qué se parece racing a pinochet? en que los dos llevan gente a los estadios para torturarla', ' esto técnicamente es un chiste', ' pero hay veces en que el humor resulta refrescante para un grupo pero ofensivo y doloroso para otro', ' entre las variadas reacciones que la opinión pública española experimenta cada vez que la eta comete un atentado (estupor hartazgo impotencia etcétera) hay una muy indirecta y quizá frívola que llama la atención: la mayoría de los españoles se enoja con la prensa británica se enoja mucho y patalea los días siguientes a cada atentado a raíz de la forma en que el periodismo inglés informa sobre los hechos en cuestión', ' los periodistas o escritores que ahora tienen entre treinta y cincuenta años han escrito su primera novela en una olivetti de carro ancho y la última en un ordenador portátil', ' jack whittaker se ganó él solito la powerball de 2002 el equivalente al gordo de navidad', ' el de ese año no fue un premio cualquiera sino el más suculento pozo de la historia norteamericana: 315 millones de dólares', ' la especulación del ladrillo que en europa se conoce con el eufemismo de burbuja inmobiliaria está destapando más miserias humanas de las previstas', 'un turista de paso por buenos aires narraba absorto su primer viaje desde ezeiza hasta el centro de la ciudad', 'después de los atentados del 11-s comenzó a crecer la manía de aplaudir en los aviones', 'cuesta más de una sobremesa e infinidad de gestos y ademanes explicarle a un ciudadano europeo de mediana edad el significado de las candidaturas testimoniales en la argentina', ' cada vez con más fuerza comienza a circular la nueva moneda de curso legal el prestigio', ' nadie se pregunta para qué sirven los embajadores argentinos en cada país del mundo', ' les sospechamos actividades poco esforzadas los imaginamos en perpetuos ágapes y siempre conocemos a alguien que conoce al hijo o a la hija de alguno', 'en las últimas semanas la prensa española se hizo eco de las incidencias detalles y comidillas del último fenómeno de la televisión argentina: gran cuñado', ' disculpáme ¿tenés un minuto para que te proponga un negocio? solía decirle el hombre cincuenta y ocho años muy bien vestido siempre al mendigo nocturno que dormía a la intemperie o al delincuente recién salido de la prisión o al infectado de sida que no daba pie con bola', ' es un minuto vos escucháme podés hacer buena guita', ' siempre andamos obsesionados con la inmortalidad o por lo menos con la longevidad y sin embargo ella la silenciosa y anónima sakhan dosova nos pasó desapercibida', ' hace unos doce años (o quizás más porque tengo el recuerdo del viejo logotipo de nuevediario) ocurrió en un informativo algo único', ' se está librando en el mundo entero una batalla silenciosa de algún modo inútil de algún modo también histórica sobre el futuro de los contenidos en internet', ' ¡millones de personas lo han visto en youtube! dice alguien y todos giramos la cabeza para mirar', ' las nuevas noticias de estos tiempos se miden en millones de reproducciones', ' hay un segmento en el canal euronews en el que ofrecen diversas noticias del mundo con imágenes y audio original sin locutores ni entrevistas', ' es un experimento informativo estremecedor que nos acerca a las realidades del mundo desde lo sensorial', ' desde el 5 de septiembre de 1993 (y así será hasta el fin de los tiempos) cada vez que un colombiano se encuentre en el extranjero con un argentino la conversación se detendrá siempre en la manita', ' esta semana la prensa recogió algunos extraños casos de mala suerte', ' el primero y más reciente le ocurrió a sean hodgson un inglés de 58 años que hace treinta fue juzgado y encarcelado en londres por el asesinato de una camarera', ' acaban de inventar en japón una maestra de quinto grado', ' se llama saya tiene la cara de goma y por dentro la surcan cables', ' lo primero que hizo la policía alemana el miércoles después de levantar los cadáveres de dieciséis personas en el colegio de winnenden fue entrar a la habitación del chico tim kretschmer y confiscarle la computadora para ver cuáles eran sus videojuegos violentos', ' no encontraron ninguno: ni el grand theft auto ni el narc ni tampoco el killer 7', ' uno de los espectáculos más divertidos que han surgido a raíz de la crisis económica global es observar los malabares que hacen los países para que sus ciudadanos vuelvan a tirar cosas útiles a la basura', ' un desperfecto técnico dejó el martes durante tres horas a ciento trece millones de usuarios de gmail el correo en línea de google sin servicio de mensajería', ' ¿y esto es relevante? en estos tiempos parece que sí', ' esta semana la revista nature neuroscience ha vaticinado la extinción de la caricatura del psicólogo tal y como la conocemos: el señor adusto con pipa apoyado en su sillón con indiferencia de tótem mientras nosotros pobres infelices nos hundimos en el diván y oímos la frase típica: bien hábleme de su infancia', ' eluana englaro murió sin ayuda el lunes pasado a las 20', '10 mientras el senado de italia intentaba apurar una ley para impedir su muerte', ' google ha lanzado esta semana latitude un servicio gratuito que permite ubicar —mediante el celular— a los contactos de la agenda que den su consentimiento', ' la noticia que fue recibida con algarabía por los usuarios tecnológicos no profundiza en la flamante problemática del matrimonio moderno', ' una doble campaña publicitaria —con tintes de revolución religiosa y conmoción vehicular— ha ganado las calles de barcelona málaga y madrid', ' desde hace ya tres semanas puede verse en los laterales de los colectivos de línea españoles una publicidad enorme que dice textualmente en letras mayúsculas rojas y negras: probablemente dios no existe; deja de preocuparte y disfruta de la vida', ' esta semana se ha recibido en españa —con más alarma que vítores todo hay que decirlo— al gerontólogo inglés aubrey de grey (londres 1963) que se ha despachado con la teoría de que en un futuro no muy lejano los humanos viviremos mil años en una especie de eterna juventud', ' la prensa europea me está sorprendiendo estos días', ' le está dando a la tragedia de haití una cantidad de páginas en prensa y de minutos en televisión muy superior a la que suelen dar a la gente negra que se muere en países distantes y pobres', 'han descubierto un nuevo trastorno pariente directo del síndrome de diógenes (aquel que padecen quienes amontonan kilos y kilos de basura en casa) y primo hermano del trastorno obsesivo compulsivo (la enfermedad que hizo popular jack nicholson en mejor imposible)', ' la región de bihar en la india vive estos días una ola de frío que ya causó la muerte de una treintena de personas', ' en una aldea del distrito de gaya hay una escuela que como muchas del invierno argentino no tiene calefacción ni kerosene para las estufas ni presupuesto para emparchar los vidrios rotos de las ventanas', 'se acaban de prohibir en españa las propagandas de televisión que promuevan el culto al cuerpo', ' aquí en españa con gran certidumbre los lectores abren las páginas del periódico los 28 de diciembre esperando que una de las noticias de portada resulte falsa', ' las imágenes violentas que ocurren en las escuelas del mundo se ven ahora por la tele: un alumno italiano manosea a su profesora ante la burla cómplice de sus compañeros; dos chicas en un aula de méxico se golpean hasta sacarse sangre (pero ninguna llora); una docente argentina lleva el pelo en llamarada mientras un estudiante escapa encendedor en mano', '', '', ' la nueva y más flamante pesadilla del europeo por pura casualidad del destino es hoy un grupo incierto de africanos oscuros subidos a una embarcación intentando —por mar— sacar algún provecho de la riqueza ajena', 'la última publicidad institucional de la once (organización nacional de ciegos españoles que también se preocupa de otras deficiencias) tiene por objetivo hacerle comprender a la sociedad ibérica en general tan descreída lo bien que se adaptan los discapacitados a su entorno', 'durante el último fin de semana los comentaristas de televisión española estuvieron más atentos al comportamiento del público que a los partidos de la copa davis', ' a mediados de agosto una lectora me mostró una foto de su hija en piyama y con pantuflas que leía muy oronda un libro mío', ' la foto es divertida porque la nena que puede tener entre ocho y diez años está cruzada de piernas y parece ajena al mundo', ' al final su madre me hace una pregunta un poco en chiste y un poco en serio: casciari me dice ¿cuán alejados de los niños hay que tener tus libros?', 'ha llovido en el arenero del jardín de infantes pero alex y lucas se sientan de todas formas en el suelo mojado', ' es el segundo recreo y hay nubarrones oscuros en el cielo de mercedes', ' alex tiene la boca llena de una pasta celeste y lucas lo mira con un poco de envidia infantil', 'fría mañana de sábado en mercedes', ' en la vereda oeste de la casa velatoria rossi un pequeño grupo de personas fuma en silencio y hace tiempo para entrar', ' en el interior de la sala hay otros corrillos otros grupos que conversan en voz baja de espaldas a un ataúd donde reposa el cadáver de un viejo', ' casi todos los concurrentes son personas mayores vestidas de negro', ' por eso destacan junto al féretro dos niños de cinco años', ' lucas acaba de llegar', ' en cambio alex está allí desde temprano', 'ya de entrada caí mal parado', ' vine al mundo justo el año en que todos éramos más pobres que de costumbre cuando hasta los ricos y los catinga estaban también con hambre', ' a esa época después la iban a bautizar como el tiempo del quita y pon', ' nací justo el año que el gobierno mantuvo a la gente ocupada con el azadón para evitar los alborotos', ' todos hacían trabajo inútil: los cabeza de familia sus mujeres y los hijos de ocho en adelante', ' yo no hacía esos trabajos porque estaba recién nacido', 'a su regreso de méxico mi amigo comequechu nos contó una historia', ' dice que va paseando con su mujer y su hija por las calles de jalisco y entonces descubre a dos pasos la imponente universidad de guadalajara', ' en la puerta hay un cartelito con información para turistas y lee que allí están los bustos de todos los ganadores del premio juan rulfo de literatura que concede esa casa desde 1991', ' sin dudarlo arrastra a su familia por los pasillos', ' vamos a ver el monumento a cayota les dice', 'dos veces y no una mi abuelo materno me ayudó a ser un escritor', ' y las dos veces su intención fue convertirme en su títere', ' ahora que el hombre ha muerto soy capaz de escribir sobre el asunto con menos tacto y puedo recordar —creo que sin rencor— el año surrealista que viví en su casa de san isidro esas noches en las que él me encerraba en la cocina con candado para que no saliera al patio a fumar; o las otras noches todavía peores en que revisaba mis cuentos y me tachaba con lápiz rojo las ideas inmorales', 'cuando se abre el telón alex y lucas ya ocupan el centro de la escena y están conversando con tranquilidad', ' no tienen más de cinco años cada uno y son amigos desde siempre', ' están en el arenero de la plaza del hospital rodeados de moldes baldes de colores y juguetes', ' es una mañana calurosa en mercedes', 'ocho treinta de la mañana', ' es un plácido día de sol en mercedes y todos los niños del jardín de infantes revolotean alrededor de las hamacas y los subibajas', ' lucas y alex dos amigos de cinco años conversan durante el recreo', 'lucas y alex dos amigos de cinco años están jugando en la placita del hospital una tarde de verano', ' lucas le tira piedras a las palomas y alex se queda mirando a un viejo que está sentado como dormido en un banco de madera', ' ya se barrunta la llegada del otoño porque mercedes está lleno de hojas que crujen', ' los dos niños se dejan llevar como cada tarde por la conversación infantil', 'lucas y alex tienen previsto encontrarse en la placita del hospital como cada tarde pero una tormenta les modifica los planes', ' desde sus casas aburridos de ver el chaparrón por la ventana se conectan a internet y mantienen su charlita de siempre esta vez separados por seis cuadras de distancia', 'once y media de la mañana', ' lucas y alex juegan en el arenero durante el recreo largo', ' alex más retraído que de costumbre espera el momento propicio para confesarle algo a su amigo', 'once de la mañana comedor de la casa de alex', ' los dos amiguitos de cinco años miran el disney channel sin ganas mientras toman el nesquick', ' lucas hojea una revista y pone mute intempestivamente con el control remoto', 'lucas y alex juegan en la placita del hospital bajo un sol radiante', ' cada uno en un extremo del subibaja conversan al ritmo del ir y venir de sus cuerpos', ' tarde de miércoles en mercedes', 'alex', '- estoy medio confundido lucas: ayer se me paró el pito pero no sé si asustarme o ponerme contento', 'diez de la mañana', ' alex y lucas están haciendo monigotes de arcilla en la mesita de sala verde supervisados a veces por la señorita claudia y otras veces solos', ' los demás niños en grupos de a dos hacen lo mismo en otras mesas', 'cuando se abre el telón alex y lucas ya están en el centro de la escena conversando sin mirarse', ' no tienen más de cinco años cada uno', ' están en el arenero de un espacio público rodeados de baldecitos moldes y juguetes', 'durante la infancia mi mamá mandaba a mi hermana a hacer los mandados al almacén nunca me mandaba a mí', ' yo empecé a ir al almacén a los trece años por propia voluntad', ' una vez mi papá se tuvo que cocinar él mismo porque mi mamá no estaba', ' mi abuela se enteró y le hizo un escándalo a su nuera: ¿cómo es posible nena? ¡él es el hombre de la casa!', 'ahora estoy unos días en barcelona de vacaciones y me quedo en la que fue mi casa hasta antes del infarto', ' o también se puede decir: en la que fue mi casa hasta antes del divorcio', ' me cubre el mismo techo pero obviamente no duermo en la misma cama', ' estoy en la habitación de los invitados al lado del cuarto de mi hija', ' son las ventajas de separarse sin gritos ni peleas', ' cristina mi exmujer me deja quedarme estos días acá para que nina y yo podamos estar juntos más tiempo', 'en mi barrio de mercedes (un pueblo a cien kilómetros de la ciudad de buenos aires) había un vecino muy viejo y cascarrabias', ' era un italiano de ley fanático hasta los huesos de boca juniors', ' se llamaba don américo bertotti y fue uno de los muchos inmigrantes italianos que llegaron a la argentina por culpa de la segunda guerra', 'mi mamá chichita tenía unas primas más jóvenes que ella', ' como eran solamente un poco mayores que yo las llamé siempre mis primas', ' a principios de los ochenta dos de ellas (laura y maricel) vivieron el renacer del rock argentino que llegó después de la dictadura', ' yo las veía una vez al mes y quedaba clarísimo que ellas estaban en buenos aires en el centro de todo y yo en un pueblo lejano en el que no pasaba nada interesante', ' mis primas trabajaban para charly garcía', ' la primera vez que escuché un disco de charly garcía en realidad escuché el disco del jefe de mis primas', 'a los nueve años marcelino se metió el dedo en el ombligo y descubrió bien al fondo un botón parecido a los que se usan para apagar la luz', ' ni su mamá ni su pediatra ni él mismo lo habían visto nunca porque no podía verse: este interruptor estaba muy al fondo solamente podía tocarse con la yema de los dedos', ' ese día marcelino estaba en la escuela y se preguntó qué pasaría si apretaba el interruptor', ' fue un momento importantísimo de su vida', ' la maestra explicaba algo sobre las fracciones y marcelino hizo ¡clic! en el botón', ' primero sintió un zumbido en la cabeza y después muchas ganas de vomitar', ' tuvo que cerrar los ojos', 'no me gustan las escenas de amor en público por algo que le pasó a un amigo de la escuela a los doce o trece años', ' se llamaba gastón cupi y me encantaba que me invitara a tomar la leche a su casa: era siempre una aventura', ' en mi casa todo era normal; chichita y roberto eran bastante adultos o habían madurado pronto y yo no les podía hablar de cualquier tema ni mucho menos hacerles cierta clase de chistes', ' en cambio los padres de gastón cupi todavía no habían madurado tanto eran viejos de treinta y pico pero parecían más jóvenes', 'me fascinan bastante los norteamericanos que no entienden ni quieren entender el fútbol', ' para ellos es un juego menor que se llama soccer y que juegan sus hijas en la escuela', ' para ellos el fútbol es como la milanesa de soja: la miran la huelen pero no la pueden masticar porque les parece un aburrimiento', ' ellos adoran cuando en sus deportes espectaculares el tanteador llega a cien o cuando en los entretiempos aparecen chicas universitarias con pompones de lana o cuando los relatores salen por los altoparlantes del propio estadio', ' en cambio al fútbol nuestro lo ven triste les parece un juego lánguido propio de latinos con espaldas mojadas y de europeos con complejo de inferioridad', 'todos nosotros los ricos y los pobres los infelices y los distraídos los occidentales e incluso los que tienen la suerte de usar túnica en verano todos sin que importe la raza o la elección sexual o el modelo del iphone o el corte de pelo ¡todos! coleccionamos por la noche algunas cosas en la oscuridad de nuestra habitación', 'mi madre una señora dos veces viuda de casi setenta años se enteró al mismo tiempo de dos novedades sobre su único hijo varón', ' primero le dijeron que me había dado un infarto que yo estaba grave en el extranjero y que mi vida pendía de un hilo; un rato después le confirmaron que durante la desgracia no me acompañaba mi esposa ni mi pequeña hija sino una mujer desconocida a la que mi madre bautizó inmediatamente la otra y a quien le adjudicó la culpa de mi episodio cardíaco de mi desbarranco sentimental y de mis futuras desgracias económicas', 'cuando leo en las revistas de divulgación que quizás un meteorito impacte contra la tierra y nos destruya en el año 2213 casi nunca estoy de acuerdo con la primera persona del plural', ' ‘nos’ destruya', ' ¿a quiénes? ¿a nosotros? es improbable porque todos ya vamos a estar muertos desde mucho antes: el becario que escribió el artículo; el jefe de sección que lo mandó a redactar; yo mismo que leo aburrido la noticia en la peluquería; el peluquero que se cree todo y después sufre; incluso la señora que espera el turno para hacerse el brushing', ' todos vamos a estar muertos mucho antes de que pase la catástrofe', 'cuando cristina y yo nos separamos después de quince años de convivencia nos pusimos orgullosos por haber tomado una decisión tan importante sin gritos como gente educada', ' pero enseguida nos topamos con un problema: no sabíamos cómo darle la noticia a nuestra hija de once años', ' el gran problema de separarse sin platos rotos es que ni los hijos ni los vecinos ni los parientes se enteran de nada antes de tiempo', ' al amor se lo come una abertura en el suelo pero nadie percibe el terremoto', 'hace un mes en diciembre eran casi las ocho de la mañana de un miércoles y yo estaba viendo fútbol por televisión', ' era demasiado temprano para ver fútbol pero el partido ocurría en el lejano oriente', ' de golpe un japonés pateó con fuerza y el arquero de river la sacó al corner con dos dedos', ' unos segundos después me puse a llorar sentado en la cama como un estúpido', ' y me acordé de algo que pasó hace diez años cuando llevé a mi papá por primera vez a ver un partido del barça', 'hasta que me anoté en un gimnasio yo caminaba una hora todas las mañanas por el parque saavedra veloz y con bronca porque es horrible caminar rápido sin que se te escape el micro o sin que te persiga un perro', ' caminar sin un porqué es vergonzoso pero desde el infarto tengo que hacer un montón de cosas sin sentido sin sal o sin gracia', 'desde hace años viajo mucho y como odio los hoteles elijo casas por internet', ' los anfitriones las ponen a disposición y nosotros los huéspedes las habitamos', ' a veces una semana a veces tres días', ' para no tener sorpresas suelo prestar atención a las evaluaciones que otros hicieron de las casas a las que iré', ' y siempre elijo anfitriones confiables', ' el diciembre pasado alquilé una casa de fin de semana en montevideo', ' la elegí lejos del centro y me equivoqué porque justo me infarté en el living y casi me muero', 'a finales del año 2015 yo tenía sobrepeso fumaba como un sapo y estaba a punto de cumplir cuarenta y cinco años; es decir tenía la edad exacta en la que se infartan los fumadores gordos y se mueren de camino al hospital', ' tampoco hacía ejercicio físico; solamente caminaba tres o cuatro pasos cuando me ponían la comida rica un poco más lejos de lo habitual', ' era obvio que iba a tener un infarto muy bestia y que me iba a morir bastante joven', 'el mes pasado me invitaron a presentar un libro en buenos aires', ' y como era un libro sobre fútbol al final de la charla el director de la editorial nos invitó a jugar un partido de metegol (ese invento español al que sus creadores llaman erróneamente futbolín)', ' hacía años que no jugaba al metegol pero por suerte me tocó de compañero un filósofo muy prestigioso y pudimos ganar', ' nuestros contrincantes eran el autor del libro y el director de la editorial', ' de los tres a este último lo conocía desde la juventud', 'mi pueblo natal se llama mercedes está en una llanura verde de la provincia de buenos aires y cuando lo miro con el google maps tiene la forma exacta de dos alegrías que perdí: mi adolescencia y mi padre', ' cuando alcancé tardíamente la madurez a los veinticinco el pueblo dejó de fascinarme y fui de visita cada vez menos; cuando murió mi padre en 2008 dejé de ir para siempre', 'hay un test de treinta y seis preguntas que se puso de moda hace unos años', ' lo escribió un profesor de psicología que se llama arthur aron y (según la superstición) si dos personas que no se conocen responden esas preguntas mirándose a los ojos con sinceridad y sin apuro se enamoran perdidamente', ' como yo estaba pasando una época de crisis me encerré en el baño y me hice las treinta y seis preguntas frente al espejo para ver si por lo menos me reconciliaba un poco conmigo mismo', 'esto empieza con unos versos', ' no hablo de este relato en particular sino de la vida entera', ' entre el vivir y el soñar decía machado hay una tercera cosa: ¡adivínala!', ' todos hemos rozado esta tercera cosa alguna vez: hay un momento al despertar justo antes de abrir los ojos que se parece a la demencia senil: sabemos que estamos vivos que algo nos palpita adentro pero no sabemos nada más', ' no hay una palabra en español para nombrar a este desconcierto por eso lo bauticé con dos una en francés y la otra en alemán: petit alzheimer', 'estoy en un simposio de gente muy culta en méxico', ' me invitaron a disertar sobre el futuro del libro', ' en la sala hay personas muy destacadas y me sientan en segunda fila', ' como mi conferencia es mañana me dispongo a escuchar al señor que habla pero enseguida me distraigo', ' en el siglo veinte yo podía concentrarme sin problemas', ' podía leer o escribir durante horas y también podía ir a conferencias largas y prestar atención; pero ya no', 'en diciembre se cumplen quince años desde que vivo en un país que no es el mío', ' caí en barcelona por casualidad porque conocí a una catalana y me quedé a vivir con ella', ' pero podría haber conocido a una madrileña o a una andaluza y entonces no escribiría esto', ' porque ahora quince años después empiezo a entender a los catalanes y a sus asuntos', ' no quiero decir que me convencieron (un argentino que cambia de opinión es un uruguayo) pero sí puedo confesar que cuando llegué en el año 2000 sus afanes de independencia me daban risa', 'tuve la suerte de conocer al poeta salas y ahora que está muerto me siento más cómodo para contar algo que pasó al final de su vida', ' él impartía técnicas sobre literatura y derecho en la universidad de buenos aires y un día apareció en sus clases una alumna prodigio de trece años a punto de recibirse', ' ¡de trece años! esta chica a los siete había terminado la educación primaria un tiempo después el bachillerato y a los once había empezado la carrera de abogacía', 'tengo cuarenta y cuatro años y hace más de cuarenta que el fútbol no me importa', ' empezó a no importarme cuando mi padre me dijo en 1974 que su única ilusión era ver los mundiales acompañado', ' yo tenía tres años y solamente buscaba un cosa en la vida: temas para conversar con él', ' si mi padre hubiera dicho mi ilusión es que te gusten los carros de combate alemanes de la marca panzer hoy miraría documentales sobre la segunda guerra y escribiría cuentos bélicos', ' pero no fue así', 'hoy catorce de julio se cumplen veinte años de un hecho intrascendente que (por mi culpa) generó malestar diplomático en un país hermano y le trajo problemas a mi mejor amigo chiri', ' tiene que ver con el robo de símbolos patrios en territorio extranjero', ' específicamente un retrato presidencial', ' lo conté hace cinco años en la revista orsai (ese fue mi error) pero es necesario refrescarlo en este aniversario', ' ocurrió el 14 de julio de 1995 y ya es hora de que se levante ese castigo injusto', 'me salvé de la colimba y de la guerra', ' me salvé de ser vegetariano', ' me salvé de muchas cosas horribles', ' pero no pude esquivar la bala más dolorosa: llevar a mi hija a un concierto de violetta', ' no le pude decir que no porque en el fondo yo mismo le inculqué el consumo de cosas argentinas', 'teníamos un juguete; era el más divertido del mundo', ' no lo habíamos inventado nosotros pero jugábamos mejor que sus inventores', ' aceptamos algunas palabras de su idioma original: ful corner orsai pero enseguida lo llenamos de palabras nuestras: sombrero rabona pared', ' empezamos a jugar en la vereda en los patios en invierno y verano hasta que un día algunos de nosotros los que jugaban mejor dejaron sus empleos y se dedicaron por completo', ' ¡y qué bien jugaban!el otro día mi hija me preguntó cómo había que hacer para escribir una poesía y entonces le improvisé un reglamento de diez pasos fundamentales', ' le dije: nina escuchá muy bien este decálogo para ser poeta', ' si tienen hijos nietos o sobrinos en la edad de la inocencia pueden arrimarlos al monitor', 'la arquitecta candela prieto estaba a punto de apagar la computadora de su oficina cuando recibió un mensaje en facebook que decía así: hola me llamo candela prieto y tengo diez años', ' te escribo desde el pasado', ' primero que nada me alegra saber que en el futuro voy a ser flaca y linda', ' tus fotos del muro me encantan', ' ¿me agregás como amiga?', 'era un loft hermoso amplio casi sin muebles', ' lo más caro que le compré fue un sommier de plaza y media con resortes bicónicos porque en 1998 lo único que me importaba era dormir', ' se lo alquilaba a un alemán viudo que vivía en el primer piso con su hija', ' hans era un pelado de ojos tristes que recibía el deutsche post', ' sandra tenía mi edad unos veintisiete', ' cuando hans me alquiló la casa y me explicó los detalles no me avisó que su hija tenía problemas', 'solamente puedo escribir cuando se me antoja', ' no tengo eso que se llama el oficio', ' para peor se me antojan pocos temas: mi hija los cambios en la sociedad el fútbol la hipocresía en las relaciones y la exageración de un tiempo anterior o un sitio querido', ' en doce años de archivos no encontrarán más que variaciones sobre esos tópicos', ' también verán si navegan un poco un par de baches de silencio en el blog', ' estoy en medio de uno', 'están pasando cosas muy divertidas alrededor del fútbol español', ' en realidad está mutando la sociedad en general en españa pero el fútbol suele ser un espejo que exagera mejor los cambios', ' lo resumo en dos líneas', ' hace unos días un barrabrava del atlético tiró al río a uno del deportivo el señor se murió ahogado y ahí empezó una nueva cruzada para erradicar la violencia en el fútbol', ' todo el mundo se puso sensible y la semana pasada el real madrid expulsó a diecisiete socios porque le cantaron cosas feas a messi', 'salgo muy poco pero cuando no queda más remedio me pone muy triste ver los autos en la calle estacionados', ' no puedo reconocer a ninguno no sé de qué marca son ni de qué país', ' antes los autos eran todos distintos como los humanos', ' cuando yo era chico los autos tenían personalidad', ' había autos fornidos prepotentes; los había tímidos y perezosos', ' ahora son todos igualitos: redondeados arriba medio aerodinámicos y de colores tristes', ' antes no', 'la televisión te engorda cinco kilos entonces cuando me invitan a la televisión primero bajo cinco kilos', ' uso un método que se llama la cura del sirope', ' hay que estar diez días sin comer tomando agua mezclada con sirope y limón', ' no funciona como dieta sino como limpieza del cuerpo pero deshincha bastante', ' a mí no me importa ni limpiarme ni adelgazar', ' lo único que me importa es no verme en la televisión con papada', ' por eso llegué al canal muerto de hambre', 'escribo esto la tarde del veintisiete de octubre de 2014 mientras espero que mauro se olvide de pagar la cuota trienal del dominio casciari', 'com', ' no creo que ocurra porque es un tano muy despierto y metódico pero por las dudas tengo la tarjeta de crédito a mano', ' ya hice guardia vana en 2008 en 2011 y me toca de nuevo hoy', ' pero esta vez no estoy solo en la trinchera: me acompaña mi hija', 'durante media vida lo más trágico que puede pasar es tu propia muerte egoísta pero entonces llega algo y ¡zas! te cambia para siempre el epicentro del miedo', ' yo descubrí esto arriba de un taxi', ' un rato antes me habían pagado un dinero que no esperaba por algo que ni siquiera era un trabajo', ' entonces decidí no viajar desde la capital a la plata en un micro mugriento porque lo mínimo que podés comprar con plata inesperada es comodidad', ' el problema es que elegí a un taxista que estaba a punto de cruzar un límite', 'hace unos meses recibí un mail de una revista de bruselas: me querían hacer un reportaje telefónico', ' les dije que sí y tuvimos una charla por skype muy simpática nunca supe muy bien sobre qué', ' después me olvidé de todo hasta hace dos semanas que me escribieron de nuevo', ' ahora me pedían permiso para mandar a un dibujante a casa', ' me pareció extraño porque en general mandan fotógrafos pero les dije que bueno', 'los talleres literarios aconsejan que no hay que sentarse a escribir ni en medio de la exaltación ni en mitad de la desdicha', ' recomiendan que antes de escribir en caliente pasen los días y se ordenen las ideas', ' está claro que los talleres literarios no tienen una columna en la radio el lunes ni un blog donde hay que hablar sobre la final del mundo', 'joão da silva un cuarentón simpático ahora arrastra los pies sin ganas y acerca el sillón a la tele', ' su esposa lo mira con pena', ' falta una hora para el partido y a joão lo asalta una especie de déjà vu', ' repiquetea en su cabeza un momento horrible de su primera adolescencia', 'yo conocí en mercedes a un grupete muy compacto de cinco amigos jóvenes que habían visto las finales del 86 y del 90 en el mismo lugar: la casa de uno de ellos', ' compartieron las cábalas típicas de los sillones del nerviosismo cortado por el porro de los abrazos de méxico y los llantos de italia', 'las primeras palabras del papa juan pablo ii después de los atentados contra las torres gemelas fueron las siguientes: el mundo tal y como lo conocemos ha dejado de existir', ' desde hoy se puede decir lo mismo sobre los mundiales de fútbol', 'la última vez que vi a argentina en una semifinal yo no era yo: era un chico de diecinueve años mal acostumbrado', ' pero sobre todo era joven era bastante flaco era soltero y tenía una extraña sensación de inmortalidad', 'siempre fueron los países donde el fútbol es un pasatiempo', ' a veces prefieren el béisbol la elección de miss universo o salir corriendo cuando los persigue un tigre', ' siempre fueron las selecciones simpáticas de las copas del mundo', ' ¿se acuerdan cuando los invitábamos a nuestros mundiales para sentir ternura? los invitábamos porque eran coloridos y dicharacheros y también porque nos encantaba hacerles goles desde afuera del área', 'los suizos avanzaron mil veces pero nunca supe qué hicieron', ' cerré los ojos todo el tiempo; ellos pasaban la mitad de la cancha y yo me encerraba en un caparazón de oscuridad', ' los ojos apretados la cabeza al suelo y la radio como único contacto con el peligro', ' cerraba los ojos y pensaba cosas feas', 'la buena noticia es que argentina clasificó con nueve puntos y jugará el martes contra un equipo al que se le puede ganar', ' después en cuartos tendrá que vérselas contra otro seguramente mejor pero que tampoco nos provoca insomnio', ' el grupo temible quedó del otro lado de la llave', ' los fantasmas de alemania uruguay y brasil nos asustarán recién en la final si es que llegamos', ' y holanda en una semifinal hipotética', ' dios me libre y me guarde mucho', 'con los años se aprende que no importa el fútbol: lo que importan son los preinfartos de los que te salvás', ' es decir los recuerdos imborrables que vas a atesorar para contarles a tus nietos', 'aunque el torneo haya empezado el jueves en mi cabeza arrancó hace un rato a los 20 minutos del segundo tiempo del undécimo partido cuando messi hizo su primer gol en un mundial con la camiseta numero diez en la espalda', 'desde hoy y durante un mes entero me voy a poner monotemático y solamente escribiré sobre el mundial de fútbol', ' no es una decisión estratégica sino la imposibilidad de pensar en otra cosa', ' me encantaría tener otros cajones en mi cerebro pero soy incapaz', 'que me perdonen este jueves las damas presentes pero tengo la necesidad de hablar sobre fútbol', ' pero es aún peor: hablaré sobre la regla futbolística menos comprendida por la platea femenina: el offside', ' yo no sé si es porque estoy viejo o porque estoy harto de ver jugadores en la misma línea a los que no se deja avanzar pero la posición adelantada cada vez me parece más estúpida', ' y voy a explicar por qué con dos metáforas y una vieja historia', 'hace un tiempo me invitaron a lima para dar una charla', ' justo antes de volver a casa en el aeropuerto internacional jorge chávez unos policías muy enojados me llevaron a la rastra a un subsuelo me pusieron las manos contra la pared me abrieron las piernas rompieron una por una las artesanías que le llevaba de regalo a nina y me hicieron pasar una eternidad maravillosa junto a dos perros amaestrados: uno blanco el otro negro', 'hernán casciari nació en mercedes en 1971 y todo lo que sigue es relativo o fragmentario', ' nadie es como informa su biografía', ' en realidad nadie es de una manera única o lineal', ' pensaba en esto ayer porque —en medio del rediseño de este blog— quería actualizar el apartado el autor', ' estaba a punto de agregar datos nuevos y de repente me quedé en blanco', ' ¿quién soy realmente? y sobre todo ¿quién debería explicarlo?estoy en san josé de costa rica y llueve', ' acabo de pedir un café y abro la portátil', ' de repente aparezco etiquetado en una foto de facebook y pienso que se trata de un error porque a primera vista no me veo en la imagen', ' es nomás un segundo menos incluso de un segundo hasta que entiendo', ' me quedo mirando la foto con los ojos abiertos y sin pestañear; pasa un rato después otro rato y mi gesto sigue congelado', 'la fábula es corta y la voy a resumir en el primer párrafo: unos excompañeros de colegio abrieron una página en facebook en la que filmaban sus parrilladas y ofrecían secretos de cocción de la carne', ' como la web tuvo rápidamente muchos seguidores el grupo fue invitado a un ignoto mundial de barbacoa en el norte de áfrica', ' la invitación fue fortuita una gran casualidad que propició internet', 'hubo una época que para peor fue larguísima en la que chiri ejerció un extraño poder sobre mí', ' me va resultar difícil explicar esto por lo que me pido tres páginas en lugar de una', ' la desgracia empezó al inicio de la edad del pavo a los doce o trece años en una plaza de mercedes cercana a las vías', 'érase un pueblo tranquilo en el que habitaban muchos vecinos tranquilos', ' todos llevaban una vida agradable y sencilla y cada uno deseaba prosperar', ' pepe era uno de ellos', ' una tarde pepe salió a caminar por el pueblo y tuvo sed', ' siguió caminando y tuvo más sed', ' cuando volvió a su casa y mientras descorchaba una botella descubrió algo que nadie había descubierto antes: en el pueblo no había bares', 'menos de once segundos antes cuando el jugador argentino recibe el pase de un compañero el reloj en méxico marca las trece horas doce minutos y veinte segundos', ' en la escena central hay también dos británicos y un hombre algo mayor de origen tunecino', ' el deporte al que juegan el fútbol no es muy popular en túnez', ' por eso el africano parece el único que no está en actitud de alarma atlética', 'lo que voy a contar pasó cuando todavía existían las pesetas exactamente el día que me quedé sin ninguna', ' con treinta años recién cumplidos yo vivía en una pensión del barrio de gràcia', ' una cama un escritorio el baño afuera', ' hacía poco que estaba en barcelona y cristina ya me había empezado a pagar los cigarros', '—¿vos sos el jefe de chiri? —me preguntó nina', ' —no', ' —entonces chiri es tu jefe', ' —tampoco pensamos la revista entre los dos', ' —¿y si no están de acuerdo en algo quién gana?la respuesta rápida es por mi hija por mi esposa porque tengo una familia catalana', ' pero si me preguntan en serio por qué sigo acá en barcelona en estas épocas horribles y aburridas es porque estoy a cuarenta minutos en tren del mejor fútbol de la historia', 'en algún momento de este siglo descubrí que ya no quería escribir más como antes', ' quiero decir: nunca más a solas con la olivetti en la cocina viendo crecer las páginas sin mostrarle a nadie cada capítulo o cada cuento sin la invasión permanente de los lectores sin la adrenalina del borrador a la vista', 'resulta que no hace mucho publiqué en este blog una historia de amor tetas que me ocurrió a los ocho años', ' los personajes que aparecían en el cuento eran compañeros de tercer grado que no vi nunca más porque al año siguiente me cambiaron de curso', ' como en la historia usé nombres y apellidos reales uno de aquellos compañeros juan josé bugarín me escribió un correo electrónico tan pronto se vio mencionado', 'me encuentro con un viejo compañero de la primaria que no veía desde los años ochenta y del que tuve noticias a través de una red social', ' nos citamos en un bar del centro nos palmeamos con cariño falso pedimos unas cervezas', ' le digo: \"qué increíble para lo que acaba sirviendo facebook\"', ' se ríe fuerte como si le estuviera tomando el pelo: \"si facebook sirviera solamente para encontrarme con vos gordo boludo —me dice— yo no tendría banda ancha en casa', ' a mí facebook me cambió la vida pero de verdad\"', 'una serie de situaciones (gratas) provocaron que el mes pasado haya escrito poco en mi cuaderno', ' es verdad que no redacto estas páginas para nadie pero también es mentira: suelo andar por la casa con más soltura si el último relato de orsai está en sintonía con una fecha cercana', ' será que al publicar un texto nuevo dejo de sentir la espera ajena o que necesito escribir por superstición amateur para que esto no deje nunca de ser un hobbie', ' sea por una cosa o por la otra hacerlo me tranquiliza; me pone en orden', 'hace unos cuantos meses me llamó a casa luis rull uno de los organizadores del ebe 2008 para invitarme a dar la charla final la que cerraría el evento', ' como luis es muy previsor me llamó en abril o en mayo; hace muchísimos meses', ' y posiblemente lo hizo de esta manera tan anticipada porque sabe que únicamente digo que sí a las propuestas remotas', ' digo que sí a cualquier cosa que me propongan de aquí a seis meses porque me resulta muy complicado encontrar una excusa creíble', 'la lengua checa tiene muchas tildes y son extrañas', ' algunas además se colocan en las consonantes', ' el apellido de iveta tiene una en la ese mayúscula: šeredovà', ' esta tilde provoca que el sonido de la ese se convierta en yuvia argentina', ' iveta šeredova habla castešano un poco mejor pero no mucho quizás porque desea seguir siendo checa para siempre', ' lee una revista que se llama tv mánie', ' hoy me volvió a pedir que nos descarguemos series donde trabaje sally fieldovà', ' y yo con íntimo dolor de crítico de la tele la perdono', 'anoche le contaba a la nina un cuento infantil muy famoso el hansel y gretel de los hermanos grimm', ' en el momento más tenebroso de la aventura los niños descubren que unos pájaros se han comido las estratégicas bolitas de pan un sistema muy simple que los hermanitos habían ideado para regresar a casa', ' hansel y gretel se descubren solos en el bosque perdidos y comienza a anochecer', ' mi hija me dice justo en ese punto de clímax narrativo: \"no importa', ' que lo llamen al papá por el móvil\"', 'ahora mismo estoy viajando en un tren y voy leyendo un libro gordo muy interesante', ' mis tiempos de lectura ocurren en el ferrocarril o cuando estoy cagando en casa', ' pero resulta que tanto el baño como el vagón presentan incomodidades: no tienen mesas amplias ni apoya brazos por ejemplo; entonces al libro lo debo soportar en las manos', ' cuando el volumen es breve no hay mayores problemas pero ir y venir con un ladrillo de medio kilo en las manos en pleno siglo veintiuno empieza a resultar un despropósito', 'esto pasó hace muchos muchísimos años', ' para ser exacto tres', ' en las historias de la vida real quizás tres años suenen a poco pero para una anécdota virtual tres años es la prehistoria', ' internet es una sociedad falsa que avanza a cámara rápida: las relaciones personales son veloces y efímeras los éxitos y los fracasos no tienen la menor importancia la experiencia se adquiere con facilidad y las buenas moralejas a veces ocurren por una carambola del destino', ' lo que voy a contar ocurrió en ese tiempo en ese mundo', 'dos veces a la semana suena el teléfono en casa o el timbre y del otro lado aparece un encuestador', ' cada vez hay más y se presentan mejor preparados', ' con el tiempo han aprendido a ser inmunes al no', ' saben minimizar las excusas y están por todas partes mendigando quince minutos de nuestras vidas', ' si un día la tierra padeciera un conflicto químico que aniquilase todo —plantas animales gente— seguirían sonando los teléfonos por la mañana', ' el encuestador es la nueva cucaracha del mundo', 'salir de casa para cenar con gente implica una serie de actividades molestas: bañarse vestirse perderse un partido de la eurocopa comprar un vino caro sonreír dos horas sin ganas a veces tres', ' que te acompañen por las habitaciones para que veas una casa que no te importa', ' dejar a tu hija con los abuelos extrañarla', ' cenar sin tele sin cocacola comer ensalada de primer plato no desentonar no fumar si no hay ceniceros a la vista', ' muchísimo menos sacar la bolsita feliz', ' son demasiadas cosas para la edad que tengo', 'años atrás mi tataranieto woung comenzó a enviarme informes sobre el devenir del siglo xxi', ' los lectores consecuentes de orsai quizá recuerden ese primer texto en donde mi pariente explica cómo sería la vida hasta el año 2026 cuando un chileno logra ganarle una partida de ajedrez a una computadora construida por un chimpancé', ' y luego el segundo texto que va hasta 2046 fecha en que el ser humano descubre que el apéndice es un segundo pene', ' hoy he recibido la tercera carta', '', '', ' el futuro es escalofriante', 'de repente un video de you tube recibe un millón de visitas', ' su autora una gordita de illinois escribe con el culo en una pizarra', ' en casa de la gorda suena el teléfono sin parar', ' llaman las radios la televisión comarcal y tres diarios regionales', ' es un día de locos', ' la madre de la gorda no entiende pero comienza a sentirse orgullosa', ' dos días más tarde la gordita saldrá al aire en el show más visto de la cadena nbc', ' y después ya no ocurrirá más nada', ' silencio', ' la gorda intentará grabar otras hazañas pero su momento habrá pasado', 'menos la cama todo ha mejorado en este mundo', ' antes cocinábamos la sopa haciendo fuego con leña ahora metemos el tazón directamente al microondas; hace medio siglo podíamos tener hasta cincuenta longplays en casa hoy tenemos quinientas discografías completas en el bolsillo; ayer íbamos a los sitios a caballo y tardábamos meses en llegar ahora nos movemos en aviones y en tren bala', ' todo lo que nos importa ha evolucionado menos la cama la cama no', ' dormir sigue siendo la misma mierda desde el siglo once', 'mi nombre no importa; no voy a presentarme', ' lo que importa es mi cara que aparece de perfil en un video que ahora recorre el mundo', ' en ese video viajan en metro un español una ecuatoriana y un argentino', ' (parece el principio de un chiste pero no lo es)', ' yo soy el argentino', ' o quizás en ese video vayan en un vagón una víctima un verdugo y un cobarde', ' en ese caso soy el cobarde', ' también es posible que en ese tren estén viajando tres animales muertos de miedo oliendo a diferentes miedos', ' pero eso no lo dice nadie', 'el actual hombre corbata es el último eslabón del hombre disfrazado una especie que gobernó la tierra sin asco desde el año 1138 de nuestra era', ' el poder desde entonces y hasta hoy ha estado en manos de gente disfrazada', ' reyes obispos jueces y militares', ' cada vez que un hombre corriente accede a un puesto de omnipotencia se convierte en un hombre disfrazado y por tanto al acto de posesión se le llama investidura', ' cuanto más perverso sea el cargo de poder tanto más ridículo será su disfraz', 'si lees estas líneas es porque hoy cumples trece años y porque yo estoy muerto', ' las redacto antes de partir a la batalla casi sin armas para enfrentarme a un enemigo superior', ' ahora eres un niño de once meses —llevo aquí tu foto— pero mi ahora es tu ayer y no nos sirve', ' escribo a trompicones', ' las balas pasan tan cerca que es probable que ya tengas trece años', ' es buen momento entonces para que tengamos una charla de hombre a hombre', ' me habría gustado hacerlo en persona pero ya ves: las cosas nunca son como las deseamos', 'hace exactamente un año mi tataranieto woung me ofreció la primera parte de un documento estremecedor sobre lo que nos depararán las primeras dos décadas del siglo xxi', ' ese informe que reproduje en orsai abarcaba veinte años y concluía en 2026 cuando argentina se corona campeón en el mundial que se disputa en yugoslavia hermanos', ' ¿pero qué ocurre luego? woung acaba de enviarme el segundo de los tres documentos', ' allí nos explica con dramático detalle cómo será la vida entre 2027 y 2046', 'hace muchísimo tiempo en un planeta que no era éste pero se le parecía un poco en el contorno de la circunferencia hubo una raza superior a todas las que habitaron el universo en cualquier época y en cualquier rincón', ' eran bellos inteligentes generosos compasivos valientes y suaves al tacto', ' en su apogeo como civilización lograron construir una sociedad perfecta: en su mundo no existía el hambre ni el trabajo aburrido ni los abogados ni la enfermedad ni la democracia', ' se llamaban los metalampos', 'el tonto ya no es lo que era', ' ha pasado el tiempo el siglo veinte se ha ido y las calles ya no son de tierra', ' en eso estamos de acuerdo', ' ¿entonces por qué le seguimos dando al tonto una representación analógica? seguimos pensando que está en las calles pero no', ' el tonto de hoy ha dejado de ser aquel que no encaja en las reuniones y los grupos', ' el tonto actual ya no necesita salir ya no precisa cuajar para subsistir ni molestar con su presencia física porque ahora vive en internet agazapado careteando picardía y sutileza', 'seis de la tarde en las oficinas ebay de londres', ' karen thompson se acaba de fumar un porro a escondidas y ahora está jugando al solitario en su monitor gigante', ' quería ser escritora pero el destino la convirtió en redactora de gacetillas para un portal de subastas', ' la vida a veces es una mierda', ' ahora karen se pasa las tardes en blanco en ocasiones se masturba en el baño para discapacitados en ocasiones no pero al final del día ha escrito tres mentiras potables', ' desde que fuma sin embargo está perdiendo realismo', '1º de diciembre', ' ya ha pasado una semana desde la desaparición de áfrica y sigo sin sentir dolor por el destino del mundo', ' estoy harto de que nadie piense en retomar el curso de la vida harto de que no se oiga hablar de otra cosa en la prensa en la calle en la televisión', ' áfrica por aquí áfrica por allá', '', '', ' la desaparición del continente es un tema importante pero no entiendo cómo se las arregla la gente para cotorrear día y noche sobre un asunto del que nadie sabe qué decir', ' en otro orden de cosas soledad no me ha llamado', 'esta semana una periodista (de revista argentina cuyo nombre no develaré) me pide un reportaje', ' le digo que bueno', ' ya expliqué un día lo que cuesta responder mil veces lo mismo y de lo agradable que resulta cuando esto no ocurre', ' uno siempre espera algo de piedad; pocas veces te dan el gusto', ' esta vez tampoco hubo suerte', ' la primera inquietud del cuestionario era la de siempre: ¿cómo descubriste el mundo de los blogs? la tercera era peor: ¿cuándo sentiste que eras un blogger? pero lo más triste ay aún estaba por llegar', 'acaba de llegarme el título de propiedad de un terrenito que me compré en la luna', ' me costó 20 dólares —gastos de envío aparte— y lo pagué con tarjeta', ' además del certificado con mi nombre grandote me vino por correo una foto satelital de mi parcela', ' no sé si ustedes estarán viendo la luna pero si la tienen a mano dibujen en ella una cara imaginaria', ' mi terrenito estaría sobre el ojo derecho', ' la región se llama lago de los sueños (lacus somniorum en latín) y está casi saliendo del mar de la serenidad como quien va al cráter posidonius', 'hace unos meses le supliqué a mi tataranieto woung que no me dijera nada sobre mi vida en el futuro y con buen tino cumplió mis deseos', ' al irse de casa me reveló algunos datos interesantes sobre cómo sería la vida del hombre a finales del siglo xxi pero me dejó a medias con otros temas de interés', ' el viernes al revisar el correo vi un sobre extraño demasiado moderno para mi gusto', ' era una carta de wuong en la que me explica con pelos y señales cómo serán nuestros próximos veinte años', 'el día que jürgen bernd toco el timbre de la casa de armin meiwes la vida social de la humanidad cambió para siempre', ' hasta entonces el mundo era una extensión enorme de tierra llena de gente sola y perdida en sus fobias y deseos trastornada y única en su soledad', ' gente callada esquiva chorreando traumas inconfesables', ' desde chiquito armin quería ser caníbal; jürgen sólo fantaseaba con ser devorado vivo', ' jamás hubieran llegado a conocerse en otra época pero vivían en ésta', ' el 6 de marzo de 2001 se encontraron en un foro de internet y programaron una cita el fin de semana', ' para comer(se)', 'hace dos lustros cuando se cumplió el décimo aniversario de la masacre de cañuelas logré una entrevista con enrique politto la primera y única que el asesino ha dado desde la unidad 5 donde todavía permanece encerrado', ' el loquito de los puntos y las vueltas fue el último de los campeones de la competencia llamada los provinciales del loco', ' la tarde en que se coronó vencedor un 27 de marzo de 1986 recibió su trofeo de manos del gobernador armendáriz saludó al público sacó una granada del bolsillo e hizo estallar la tribuna oeste del polideportivo el porvenir matando a dieciocho personas: doce cuerdos cinco locos y un chileno', 'según cuenta la historia desde principios del siglo xx la ciudad de tandil alardeaba con poseer al loco del pueblo más original de la provincia hasta que en 1939 la ciudad de chacabuco se queja ante la gobernación central aduciendo que esa distinción debería realizarse por consenso', ' así surgen los primeros juegos bonaerenses de excentricidad conocidos popularmente como los provinciales del loco', ' la competición nace oficialmente en mar del plata en 1942 y se desarrollará cada cuatro años en sedes rotativas hasta el fatídico suceso de cañuelas del que la semana próxima se cumple un nuevo aniversario', 'los miércoles a las nueve de la noche hora de nueva york la cadena norteamericana abc emite una serie de televisión que me gusta', ' a esa misma hora un mexicano llamado elías dueño de un vivero en veracruz la está grabando directamente a su disco rígido y tan pronto como acabe subirá el archivo a internet sin cobrar un centavo por la molestia', ' tiene esta costumbre dice porque le gusta la serie y sabe que hay personas en otras partes del mundo que están esperando por verla', ' lo hace con dedicación del mismo modo que trasplanta las gardenias de su jardín para que se reproduzca la belleza', 'según los sicólogos las personas que se nos aparecen en los sueños son rostros que alguna vez hemos visto', ' si en tu sueño hacés un golazo por ejemplo cada uno de los veinte mil rostros de la multitud que te aclama pertenece a gente que pasó por tu vida: actores de antes compañeros fugaces de la primaria un tipo que tocó el timbre para vender una enciclopedia la chica que estaba leyendo a monterroso en el subte y se reía una maestra suplente de música que salió del aula llorando etcétera', 'fernando y carla eran una pareja normal de nuestra edad', ' él valenciano; ella santafecina', ' vivían acá cerca en alicante', ' cuando nació pablito (que ahora tiene dos años pobre) hicieron lo que hacen todas las parejas que tienen una cámara digital: abrieron un blog para poner las fotos del nene y que los padres de carla lo vieran crecer', ' hasta ahí todo bárbaro', ' el problema empieza cuando carla al tiempo abre un blog para ella sola', ' para contar mis cosas le dirá más tarde al juez', 'lo único que espero del progreso es que se invente de una vez por todas la grabadora de sueños (sdr se va a llamar que significa sleep dreams recorder)', ' desde los 15 años que estoy ansioso con ese tema y todavía no pasa nada', ' los jueves es el único día que compro el diario porque viene el suplemento tecnológico y paso las páginas rapidito para ver si ya la inventaron', ' nada', ' mucha pc portátil mucho google map mucho pirimpimpín pero de la grabadora de sueños ni noticias', 'a mí lo que más bronca me da en todo el mundo es que sigamos usando refranes pasados de moda como por ejemplo la clase de cuchillo que hay en la casa del herrero', ' con la mano en el corazón ¿alguien vio alguna vez a un herrero? no', ' ¿alguien sabe qué carajo era un herrero? menos', ' ¿entonces por qué usamos esa frase? ¡porque somos cómodos! es increíble que en plena época del microondas sigamos diciendo que en todas partes se cuecen habas', ' ¡mentira señores ahora las habas vienen en lata! por eso y muchas cosas más en el artículo de hoy vamos a acabar de una vez por todas con esta farsa', 'hace unos días en estados unidos asesinaron a un blogger', ' la noticia apareció en la prensa', ' el muerto se llamaba simon y la policía pudo dar con el criminal porque el occiso antes de morir nombra a su verdugo en su último post: el ex novio de mi hermana está aquí fumando y recorriendo toda la casa; suerte que se irá pronto escribía ingenuamente el blogger', ' por lo visto tuvo tiempo de darle al botón enviar antes de que su cuñado le partiera la cabeza con un picahielo', 'señor autor me desagrada que utilice en sus textos y tan a la ligera la palabra boludo pues se trata de una dolorosa enfermedad que no tiene nada que ver con lo que usted quiere representar', ' mi marido tiene las bolas muy grandes pues padece de macroorquidismo y sin embargo es un ser cariñoso elegante y con un cociente intelectual elevado', ' por supuesto mi queja incluye también las voces pelotudo hinchabolas bolastristes y otros calificativos derivados de las afecciones andrológicas comunes', 'el 8 de septiembre de 2003 me apuntaron con un arma por primera vez en la vida', ' el caño me tocaba la frente no de lleno sino de costado y nunca supe si la pistola tenía balas', ' (tampoco quiero saberlo ahora)', ' me había enterado unos días antes que cristina estaba embarazada y en eso pensé mientras era encañonado', ' pensé en un hijo sin padre en una viuda con panza en un tipo de treinta y dos años desangrándose a quinientos kilómetros de casa', ' y también me acordé de un chiste; un chiste muy malo', 'los argentinos y los españoles habitamos en las dos puntas más extremas de la cuerda psicoanalítica', ' nosotros vamos al psicólogo sin prejuicios y en masa como quien concurre a la matiné de los domingos; ellos lo hacen con gafas de sol y a escondidas del barrio como quien decide ir por primera vez a un cine porno para ver una cinta chancha', ' y ni siquiera', ' en realidad no conozco a ningún español que vaya al psicólogo por propia voluntad', ' suelen llevarlos los parientes cercanos cuando huelen el suicidio o la debacle', 'no es bueno escribir enojado', ' lo mejor es ducharse con agua tibia o pegarle patadas a un almohadón; sólo entonces escribir', ' el problema es que acabo de hacer todo eso y sigo enojado', ' ¡mierda! ahora son las cuatro de la mañana del lunes', ' hace unas horas cuando todavía era domingo tuve la mala suerte de encontrarme en plena barcelona con un caradeforme', ' no es la primera vez que veo uno pero sí la primera que no logro esconderme a tiempo', ' ¡mierda mierda! estoy caliente como una pipa', ' (ustedes perdonen', ')una familia ecuatoriana marroquí boliviana rumana o peruana cuando descubre que lo ha perdido todo compra un pasaje de oferta y viaja a españa para seguir siendo pobre en otro país', ' una familia argentina en cambio antes de sucumbir económicamente antes de caer en lo más bajo y hediondo de la indigencia hace un último esfuerzo y pone un quiosco en su propio barrio', ' lo último que hace un argentino antes de bajar los brazos no es buscar nuevos horizontes sino endeudarse con un proveedor de golosinas', 'en la vidriera de dolce & gabanna hay carteras pequeñas de piel a 800 euros', ' a unos metros en la vereda un marroquí vende unas idénticas por 15', ' como las carteritas de dentro y las de fuera tienen el mismo color el mismo diseño y el mismo logo por la tarde llega la policía', ' en un mundo sensato meterían preso al vendedor que no tiene escrúpulos', ' en este mundo en cambio se llevan esposado al marroquí por molestar a los nuevos ricos con una realidad escandalosa: el verdadero precio de las carteras', 'toda mi vida he asociado la noche de reyes con un olor y un sonido', ' a las madrugadas del cinco al seis de enero como toda criatura ansiosa yo no las dormía sino que las soportaba en vela conteniendo la respiración e intentando escuchar los pasos de los camellos sobre el mosaico', ' en la oscuridad de la noche sin embargo solamente se podía distinguir el runrún del ventilador', ' ahora ya soy grande pero cada vez que me despierto con el ventilador prendido el corazón me late como si al lado de mis zapatos pudiese haber regalos', 'el macho español observa con estupefacción y extrañeza a dos amigos argentinos besarse en el momento del encuentro o a la hora de la despedida; lo he notado muchas veces', ' el beso masculino es para ellos inaudito; tan espantoso como llorar en público', ' que una boca de hombre roce la mejilla de otro hombre no les tiñe la vista de representaciones homosexuales sino de algo peor: les genera una sensación de vértigo de asquete de intimidad imposible', ' besarse es para ellos como hablar de caca mientras se cocina una mousse', 'ayer volví a mi casa después de un mes de estar en otros lugares peores', ' he vuelto a mi baño a la forma exacta del culo en el inodoro a hablar por teléfono tirado en el sofá naranja a ver películas hasta cualquier hora y más que todo he vuelto a tener todo el tiempo del mundo para conectarme a internet y mirar televisión', ' por alguna razón siento que hubiera regresado no a mi sofá sino a mi patria', ' es un poco raro pero cuando me voy de mi casa en barcelona por algún tiempo lo que más extraño es argentina', 'hace seis años yo vivía en una casita alucinante en miniatura que parecía el decorado de una sit-com', ' en realidad lo era porque me la alquilaba un alemán que había trabajado durante veinte años como escenógrafo de canal 13 y la había puesto a punto con sus propias manos', ' era todo chiquito y placentero y tenía una barra de madera que separaba la cocina del comedor', ' y taburetes', ' también había un jardín con un horno de barro y una parrilla', ' y no tenía internet', ' hace seis años mi vida era la prehistoria', 'pertenezco al selecto grupo de varones que han sido concebidos durante un mundial de fútbol', ' esto significa que el padre macho mientras engendra a su señora está pensando en otra cosa y provoca que el feto se inicie en la vida con capacidades psíquicas diferentes', ' los mundiales ocurren cada cuatro años entre junio y julio por lo tanto padecemos este síntoma los varones nacidos entre febrero y marzo del año siguiente a un mundial', ' a mí me tocó llegar al mundo a mediados de marzo del 1971', ' es decir que astrológicamente hablando soy méxico 70 con ascendente en pelé', 'cuando uno llega a españa no entiende muchas costumbres pero creo que la más terrible (por encima del terrorismo y el tamaño ridículo de los yogures) es por qué insisten en descuartizar a la vaca muerta sin pedir consejos', ' ¿por qué reinciden en el corte transversal paralelo al nervio si ya saben que así no es? ¿por qué el carnicero finge no saber qué significa colita de cuadril cuando es obvio que sí lo sabe y pone cara fastidio cuando un cliente nacido en un país ganadero y democrático le pide un kilo?una lectora sagaz me dice en el comentario 227 del artículo llamado españa decí alpiste que argentina no es mejor ni peor que españa sólo más joven', ' me gustó esa teoría y entonces inventé un truco para descubrir la edad de los países basándome en el sistema perro', ' desde chicos nos explicaron que para saber si un perro es joven o viejo había que multiplicar su edad biológica por 7', ' con los países entonces hay que dividir su edad por 14 para saber su correspondencia humana', 'en las fiestas de casamiento yo soy el que se queda solo sentado a un costado de la mesa mientras los demás bailan fingiendo que son un trencito', ' yo soy ése porque en la vida hay roles que debemos cumplir', ' alguien debe ser el borracho que da vergüenza ajena y alguien tiene que ser la yegua omnipresente con el vestido rojo y alguien tiene que ser el novio y alguien tiene que ser la bisabuela que fuma y alguien tiene que ser un primo que vino desde boston especialmente a la boda', ' yo soy el aburrido de la mesa del fondo', ' y no me quejo', 'la alta cocina consiste en servir los platos de siempre presentados de un modo extravagante para poder cobrarlos un ojo de la cara', ' la argentinidad bien entendida es más o menos lo mismo', ' el chiste famoso debería ser diferente: cocine a un argentino por lo que vale sírvalo caliente y cóbrelo por lo que dice valer', ' así que coja papel y lápiz señora porque en el artículo de esta noche le enseñamos a preparar cuatro platos argentinos de fama mundial', 'empezamos de a poco y en silencio a corroerte españa', ' primero llegaron ellas nuestras indestructibles hormigas negras macizas hijas de puta y te alteraron el ecosistema peninsular', ' después te mandamos a king áfrica para reventarte directamente el cerebro', ' y entonces calladitos la boca llegamos nosotros los argentinos', ' nos colamos en tus bares en tus calles y les dijimos a tus carniceros cómo se corta la carne', ' el tiempo siempre estuvo de nuestro lado españa: era cuestión de esperar a que vos cambiaras no nosotros', ' la especie más fuerte es la que sobrevive', ' siempre', '¿nosotros somos profundos y ellos son básicos? ¿o ellos son prácticos y nosotros vuelteros? las diferencias entre argentinos y españoles se resumen en cuatro temas esenciales: las artes el fútbol el tiempo y el sexo', ' en este estudio de campo ofrecemos un pantallazo general de dos razas que se han pasado la vida intentando (sin suerte) entender el mundo', 'desde hace tres años darín ha compuesto un arquetipo que ha calado muy hondo en la bombacha de la mujer española', ' el personaje es un soñador pícaro que sufre ataques al corazón porque su madre con alzeimer se quiere casar con un tipo que vende estampillas en un club que se está fundiendo', ' un personaje meloso que siempre tiene a flor de labio una frase entre existencial y divertida', ' el problema no es que existan argentinos de esta calaña (que los hay) sino que hoy en día todos los argentinos recién llegados a españa quieren componer este personaje darinesco y se está saturando el mercado', 'la primera cosa horrible que ocurrió en mi matrimonio tuvo lugar la madrugada del 6 de junio del año 2002', ' acostumbrado a mis orígenes di por sentado que cristina como cualquier mujer adoradora de su marido se iba despertar a las cinco de la mañana para ver conmigo el mundial del japón', ' para cebar mate en silencio y disfrutar de las tribunas multicolores para preguntar esas cosas que preguntan las mujeres durante los mundiales esas ridiculeces simpáticas que respondemos con desgano disfrazado de dulzura', ' pero no', 'cuando vivía en países serios con bidet yo leía mucho en el baño mientras cagaba', ' en esos tiempos nunca supe si leía porque me venían ganas de cagar o si cagaba porque me entraban irreprimibles deseos de leer', ' posiblemente mi cuerpo aún en formación debió aprender a desarrollar ambas urgencias a la vez', ' el asunto es que yo era feliz cagando y leyendo', ' y hubiera seguido así alegremente por la vida pero hace cinco años me vine a vivir a españa un país sin bidet y desde entonces leer literatura se ha convirtido en un suplicio', 'una noche de verano de 1985 vi por primera vez a sesenta mil aficionados de river y de boca unidos en un sentimiento cantando a gritos: ruggeri hijo de puta la puta que te parió (bis)', ' sin parar durante noventa minutos', ' sin detenerse ni a respirar ni a comer el pancho del entretiempo', '', '', ' incluso la gente corría a comprar la cocacola para volver pronto y seguir cantando ruggeri hijo de puta bis', 'yo creo que hago todo lo necesario carajo', ' y más', ' abro el clarín todas las mañanas a las ocho', ' miro el partido del viernes; también entreveo medio dormido por la diferencia horaria el partido del sábado; y me siento en el sofá con una quilmes en la mano a mirar los dos clásicos del domingo', ' hago todo lo que hay que hacer', \"¿cómo se llamaba el cuatro de ferro que ganó el metropolitano del '81? ¿quién era aquel peladito que trabajaba en la tuerca? ¡ay qué facil es todo para ustedes los jóvenes! en nuestra época querido nieto podíamos estar días enteros con un cosquilleo mortal en en la yema de los dedos a causa de un dato que estaba ahí a punto de salir y que no salía\", ' entre las cosas muertas del pasado entre los cadáveres que ha dejado google a su paso lo que yo extraño es tener cosas en la punta de la lengua', 'estuve todo el fin de semana con un retortijón en el estómago por culpa de unas declaraciones de maría kodama a la prensa española: a borges le gustaba pink floyd aseguraba muy alegre de cuerpo la viuda', ' y no es que esté en contra de la música moderna; lo que me pone los pelos de punta es esta moda contemporánea y ruin de que los herederos saquen a relucir las intimidades de sus parientes inmortales', ' sobre todo cuando lo que cuentan son esas pequeñeces de entrecasa que los muertos más han querido esconder', 'últimamente estoy viendo en la tele con verdadero espanto que la publicidad viene con unos cartelitos en los que se atiende la sensibilidad de los espectadores con frases como estas: \"este anuncio fue hecho por profesionales\" o \"esto es una ficción publicitaria\" e incluso \"para realizar esta publicidad no se han maltratado animales\"', ' cada vez que veo estas pacaterías y es casi siempre confirmo que la idiotez le está ganando por goleada la eterna batalla a la creatividad', 'el 4 de abril de 1994 recrudeció en ruanda una guerra civil entre dos tribus (los tutsis y los hutus) que le costó la vida a 800 mil personas analfabetas de color negro en cuarenta y ocho horas', ' la portada de los diarios al día siguiente no mencionaba el asunto', ' el 11 de septiembre de 2001 se estrellaron dos aviones contra el world trade center de nueva york', ' murieron casi tres mil personas alfabetizadas de color blanco en venticuatro horas', ' las portadas de la prensa del día siguiente tuvieron letras del tamaño de un caballo y ediciones especiales durante semanas', 'mi relación con las chicas que te quieren vender cosas por teléfono empezó hace un par de años y fue un comienzo descorazonador', ' en argentina estos llamados no eran una plaga (como lo son aquí) y yo no estaba acostumbrado a defenderme', ' la primera vez que me quisieron vender algo mandé a la operadora a la concha de su madre y colgué como dios manda', ' error: a los dos minutos la chica me llamó de nuevo y estaba llorando', 'hasta hace quince años no había otra manera de mentir más que en directo', ' el correo tardaba demasiado y aunque uno bien podía ser un cretino epistolar ¿qué sentido tenía mentir por carta si cuando el engaño llegaba a destino con sus patas cortas la verdad había arribado antes por teléfono? pero en este siglo para alegría de todos llegó el mayor transmisor veloz de la mentira: el mail', 'cada vez que como ayer detienen a un montón de etarras yo me levanto temprano y me compro todos los diarios porque siempre aparecen las fotos de los terroristas (la mitad son mujeres)', ' y yo creo que no hay mujer más linda en todo el mundo que las chicas de eta', ' son igualitas en el mejor sentido de la palabra a lo que en la adolescencia llamábamos las varoneras', '']\n"
     ]
    }
   ],
   "source": [
    "print(corpus)"
   ]
  },
  {
   "cell_type": "markdown",
   "metadata": {
    "id": "itb-CsxKjXN8"
   },
   "source": [
    "### <span style=\"color: purple;\">Tokenizamos el texto haciendo una separacion de sentencias por \".\" </span>\n"
   ]
  },
  {
   "cell_type": "code",
   "execution_count": 52,
   "metadata": {
    "colab": {
     "base_uri": "https://localhost:8080/"
    },
    "executionInfo": {
     "elapsed": 163,
     "status": "ok",
     "timestamp": 1622427263224,
     "user": {
      "displayName": "Andres Felipe Nieto Grandas",
      "photoUrl": "https://lh3.googleusercontent.com/a-/AOh14GiVwnHrOcAcuO7hAAvGfu388UdN50UtNnedLL27=s64",
      "userId": "12110662847858295180"
     },
     "user_tz": 300
    },
    "id": "jspjwx7VDA4F",
    "outputId": "8fa8731a-5885-4c49-eddd-d1d04ed79a1e"
   },
   "outputs": [
    {
     "name": "stdout",
     "output_type": "stream",
     "text": [
      "index de verdad =  286\n",
      "\n",
      "Total de palabras en le Tokenizer (+OOV) = 4022 \n",
      "\n",
      "Primeras Lineas del corpus: \n",
      "\n"
     ]
    },
    {
     "data": {
      "text/plain": [
       "['esta semana leí que en la ciudad de buenos aires el 80% de los matrimonios se separa antes de los diez años de convivencia',\n",
       " ' un porcentaje de error enorme',\n",
       " ' y a pesar de esa estadística en este momento de la mañana en alguna oficina en alguna plaza de buenos aires dos personas desconocidas empiezan a charlar (ahora mismo debe estar pasando) y se gustan',\n",
       " ' y así empiezan de a poco a convertirse en el ochenta por ciento de la década que viene',\n",
       " 'desde hace años viajo mucho y como odio los hoteles elijo casas por internet',\n",
       " ' los anfitriones las ponen a disposición y nosotros los huéspedes las habitamos',\n",
       " ' a veces una semana a veces tres días',\n",
       " ' para no tener sorpresas suelo prestar atención a las evaluaciones que otros hicieron de las casas a las que iré',\n",
       " ' y siempre elijo anfitriones confiables',\n",
       " ' el diciembre pasado alquilé una casa de fin de semana en montevideo']"
      ]
     },
     "execution_count": 52,
     "metadata": {
      "tags": []
     },
     "output_type": "execute_result"
    }
   ],
   "source": [
    "tokenizer = Tokenizer()\n",
    "\n",
    "corpus = data.lower().split(\".\")\n",
    "tokenizer.fit_on_texts(corpus)\n",
    "total_words = len(tokenizer.word_index) + 1\n",
    "\n",
    "#print('Dictionary: ',tokenizer.word_index,'\\n')\n",
    "print('index de verdad = ',tokenizer.word_index['verdad'])\n",
    "print('\\nTotal de palabras en le Tokenizer (+OOV) =',total_words,'\\n')\n",
    "print('Primeras Lineas del corpus: \\n')\n",
    "corpus[0:10]"
   ]
  },
  {
   "cell_type": "markdown",
   "metadata": {
    "id": "ne69lEXcM_GF"
   },
   "source": [
    "## <span style=\"color: purple;\">Funcion que nos permite crear secuencias de palabras por posición</span>"
   ]
  },
  {
   "cell_type": "code",
   "execution_count": 54,
   "metadata": {
    "colab": {
     "base_uri": "https://localhost:8080/"
    },
    "executionInfo": {
     "elapsed": 163,
     "status": "ok",
     "timestamp": 1622427328623,
     "user": {
      "displayName": "Andres Felipe Nieto Grandas",
      "photoUrl": "https://lh3.googleusercontent.com/a-/AOh14GiVwnHrOcAcuO7hAAvGfu388UdN50UtNnedLL27=s64",
      "userId": "12110662847858295180"
     },
     "user_tz": 300
    },
    "id": "OJBUbN1Z8nBy",
    "outputId": "522fce58-ed17-4c78-fa60-68666fcc6c9a"
   },
   "outputs": [
    {
     "data": {
      "text/plain": [
       "[[58, 72],\n",
       " [58, 72, 812],\n",
       " [58, 72, 812, 4],\n",
       " [58, 72, 812, 4, 3],\n",
       " [58, 72, 812, 4, 3, 2],\n",
       " [58, 72, 812, 4, 3, 2, 320],\n",
       " [58, 72, 812, 4, 3, 2, 320, 1],\n",
       " [58, 72, 812, 4, 3, 2, 320, 1, 193],\n",
       " [58, 72, 812, 4, 3, 2, 320, 1, 193, 194],\n",
       " [58, 72, 812, 4, 3, 2, 320, 1, 193, 194, 6]]"
      ]
     },
     "execution_count": 54,
     "metadata": {
      "tags": []
     },
     "output_type": "execute_result"
    }
   ],
   "source": [
    "tokenizer = Tokenizer()\n",
    "\n",
    "def get_sequence_of_tokens(corpus):\n",
    "    ## tokenization\n",
    "    tokenizer.fit_on_texts(corpus)\n",
    "    total_words = len(tokenizer.word_index) + 1\n",
    "    \n",
    "    ## convert data to sequence of tokens \n",
    "    input_sequences = []\n",
    "    for line in corpus:\n",
    "        token_list = tokenizer.texts_to_sequences([line])[0]\n",
    "        for i in range(1, len(token_list)):\n",
    "            n_gram_sequence = token_list[:i+1]\n",
    "            input_sequences.append(n_gram_sequence)\n",
    "    return input_sequences, total_words\n",
    "\n",
    "inp_sequences, total_words = get_sequence_of_tokens(corpus)\n",
    "inp_sequences[:10]"
   ]
  },
  {
   "cell_type": "code",
   "execution_count": 55,
   "metadata": {
    "colab": {
     "base_uri": "https://localhost:8080/"
    },
    "executionInfo": {
     "elapsed": 176,
     "status": "ok",
     "timestamp": 1622427418825,
     "user": {
      "displayName": "Andres Felipe Nieto Grandas",
      "photoUrl": "https://lh3.googleusercontent.com/a-/AOh14GiVwnHrOcAcuO7hAAvGfu388UdN50UtNnedLL27=s64",
      "userId": "12110662847858295180"
     },
     "user_tz": 300
    },
    "id": "0_83VuRQ7xjt",
    "outputId": "3f7470e1-a3d6-451a-da77-8e46b10ee461"
   },
   "outputs": [
    {
     "data": {
      "text/plain": [
       "array([[  0,   0,   0, ...,   0,  58,  72],\n",
       "       [  0,   0,   0, ...,  58,  72, 812],\n",
       "       [  0,   0,   0, ...,  72, 812,   4],\n",
       "       ...,\n",
       "       [  0,   0,   0, ..., 320,   1, 193],\n",
       "       [  0,   0,   0, ...,   1, 193, 194],\n",
       "       [  0,   0,   0, ..., 193, 194,   6]], dtype=int32)"
      ]
     },
     "execution_count": 55,
     "metadata": {
      "tags": []
     },
     "output_type": "execute_result"
    }
   ],
   "source": [
    "input_sequences[:10]"
   ]
  },
  {
   "cell_type": "markdown",
   "metadata": {
    "id": "9akO7IG8NN_U"
   },
   "source": [
    "### <span style=\"color: purple;\">Creación de n-Grams para datos de entrenamiento y etiquetas</span>"
   ]
  },
  {
   "cell_type": "code",
   "execution_count": 56,
   "metadata": {
    "executionInfo": {
     "elapsed": 520,
     "status": "ok",
     "timestamp": 1622427421221,
     "user": {
      "displayName": "Andres Felipe Nieto Grandas",
      "photoUrl": "https://lh3.googleusercontent.com/a-/AOh14GiVwnHrOcAcuO7hAAvGfu388UdN50UtNnedLL27=s64",
      "userId": "12110662847858295180"
     },
     "user_tz": 300
    },
    "id": "mbjGnn4q89cK"
   },
   "outputs": [],
   "source": [
    "def generate_padded_sequences(input_sequences):\n",
    "    max_sequence_len = max([len(x) for x in input_sequences])\n",
    "    input_sequences = np.array(pad_sequences(input_sequences, maxlen=max_sequence_len, padding='pre'))\n",
    "    \n",
    "    predictors, label = input_sequences[:,:-1],input_sequences[:,-1]\n",
    "    label = to_categorical(label, num_classes=total_words)\n",
    "    return predictors, label, max_sequence_len\n",
    "\n",
    "predictors, label, max_sequence_len = generate_padded_sequences(inp_sequences)"
   ]
  },
  {
   "cell_type": "markdown",
   "metadata": {
    "id": "d7SadaIFjXN_"
   },
   "source": [
    "### <span style=\"color: purple;\">Creación del modelo</span>\n"
   ]
  },
  {
   "cell_type": "code",
   "execution_count": 59,
   "metadata": {
    "executionInfo": {
     "elapsed": 158,
     "status": "ok",
     "timestamp": 1622427433516,
     "user": {
      "displayName": "Andres Felipe Nieto Grandas",
      "photoUrl": "https://lh3.googleusercontent.com/a-/AOh14GiVwnHrOcAcuO7hAAvGfu388UdN50UtNnedLL27=s64",
      "userId": "12110662847858295180"
     },
     "user_tz": 300
    },
    "id": "es6bFmU69YlA"
   },
   "outputs": [],
   "source": [
    "def create_model(max_sequence_len, total_words):\n",
    "    input_len = max_sequence_len - 1\n",
    "    model = Sequential()\n",
    "    \n",
    "    # Add Input Embedding Layer\n",
    "    model.add(Embedding(total_words, 100, input_length=input_len))\n",
    "    \n",
    "    # Add Hidden Layer 1 - LSTM Layer\n",
    "    model.add(LSTM(100))\n",
    "    model.add(Dropout(0.2))\n",
    "    \n",
    "    # Add Output Layer\n",
    "    model.add(Dense(total_words/2, activation='relu', kernel_regularizer=regularizers.l2(0.01)))\n",
    "    model.add(Dense(total_words, activation='softmax'))\n",
    "\n",
    "    model.compile(loss='categorical_crossentropy', optimizer='adam', metrics=['accuracy'])\n",
    "    \n",
    "    return model\n",
    "\n"
   ]
  },
  {
   "cell_type": "code",
   "execution_count": 60,
   "metadata": {
    "colab": {
     "base_uri": "https://localhost:8080/"
    },
    "executionInfo": {
     "elapsed": 522,
     "status": "ok",
     "timestamp": 1622427434881,
     "user": {
      "displayName": "Andres Felipe Nieto Grandas",
      "photoUrl": "https://lh3.googleusercontent.com/a-/AOh14GiVwnHrOcAcuO7hAAvGfu388UdN50UtNnedLL27=s64",
      "userId": "12110662847858295180"
     },
     "user_tz": 300
    },
    "id": "ONh0WQJv9eHI",
    "outputId": "59ce45ac-7379-4244-ce06-dabb09c1e0ad"
   },
   "outputs": [
    {
     "name": "stdout",
     "output_type": "stream",
     "text": [
      "Model: \"sequential_5\"\n",
      "_________________________________________________________________\n",
      "Layer (type)                 Output Shape              Param #   \n",
      "=================================================================\n",
      "embedding_5 (Embedding)      (None, 80, 100)           402200    \n",
      "_________________________________________________________________\n",
      "lstm_5 (LSTM)                (None, 100)               80400     \n",
      "_________________________________________________________________\n",
      "dropout_5 (Dropout)          (None, 100)               0         \n",
      "_________________________________________________________________\n",
      "dense_8 (Dense)              (None, 2011)              203111    \n",
      "_________________________________________________________________\n",
      "dense_9 (Dense)              (None, 4022)              8092264   \n",
      "=================================================================\n",
      "Total params: 8,777,975\n",
      "Trainable params: 8,777,975\n",
      "Non-trainable params: 0\n",
      "_________________________________________________________________\n"
     ]
    }
   ],
   "source": [
    "model = create_model(max_sequence_len, total_words)\n",
    "model.summary()"
   ]
  },
  {
   "cell_type": "code",
   "execution_count": 61,
   "metadata": {
    "colab": {
     "base_uri": "https://localhost:8080/"
    },
    "executionInfo": {
     "elapsed": 6616677,
     "status": "ok",
     "timestamp": 1622434067735,
     "user": {
      "displayName": "Andres Felipe Nieto Grandas",
      "photoUrl": "https://lh3.googleusercontent.com/a-/AOh14GiVwnHrOcAcuO7hAAvGfu388UdN50UtNnedLL27=s64",
      "userId": "12110662847858295180"
     },
     "user_tz": 300
    },
    "id": "70-xJU7X9ldl",
    "outputId": "2055fce0-366b-4d53-92d9-aef9c5581892"
   },
   "outputs": [
    {
     "name": "stdout",
     "output_type": "stream",
     "text": [
      "Epoch 1/100\n",
      "Epoch 2/100\n",
      "Epoch 3/100\n",
      "Epoch 4/100\n",
      "Epoch 5/100\n",
      "Epoch 6/100\n",
      "Epoch 7/100\n",
      "Epoch 8/100\n",
      "Epoch 9/100\n",
      "Epoch 10/100\n",
      "Epoch 11/100\n",
      "Epoch 12/100\n",
      "Epoch 13/100\n",
      "Epoch 14/100\n",
      "Epoch 15/100\n",
      "Epoch 16/100\n",
      "Epoch 17/100\n",
      "Epoch 18/100\n",
      "Epoch 19/100\n",
      "Epoch 20/100\n",
      "Epoch 21/100\n",
      "Epoch 22/100\n",
      "Epoch 23/100\n",
      "Epoch 24/100\n",
      "Epoch 25/100\n",
      "Epoch 26/100\n",
      "Epoch 27/100\n",
      "Epoch 28/100\n",
      "Epoch 29/100\n",
      "Epoch 30/100\n",
      "Epoch 31/100\n",
      "Epoch 32/100\n",
      "Epoch 33/100\n",
      "Epoch 34/100\n",
      "Epoch 35/100\n",
      "Epoch 36/100\n",
      "Epoch 37/100\n",
      "Epoch 38/100\n",
      "Epoch 39/100\n",
      "Epoch 40/100\n",
      "Epoch 41/100\n",
      "Epoch 42/100\n",
      "Epoch 43/100\n",
      "Epoch 44/100\n",
      "Epoch 45/100\n",
      "Epoch 46/100\n",
      "Epoch 47/100\n",
      "Epoch 48/100\n",
      "Epoch 49/100\n",
      "Epoch 50/100\n",
      "Epoch 51/100\n",
      "Epoch 52/100\n",
      "Epoch 53/100\n",
      "Epoch 54/100\n",
      "Epoch 55/100\n",
      "Epoch 56/100\n",
      "Epoch 57/100\n",
      "Epoch 58/100\n",
      "Epoch 59/100\n",
      "Epoch 60/100\n",
      "Epoch 61/100\n",
      "Epoch 62/100\n",
      "Epoch 63/100\n",
      "Epoch 64/100\n",
      "Epoch 65/100\n",
      "Epoch 66/100\n",
      "Epoch 67/100\n",
      "Epoch 68/100\n",
      "Epoch 69/100\n",
      "Epoch 70/100\n",
      "Epoch 71/100\n",
      "Epoch 72/100\n",
      "Epoch 73/100\n",
      "Epoch 74/100\n",
      "Epoch 75/100\n",
      "Epoch 76/100\n",
      "Epoch 77/100\n",
      "Epoch 78/100\n",
      "Epoch 79/100\n",
      "Epoch 80/100\n",
      "Epoch 81/100\n",
      "Epoch 82/100\n",
      "Epoch 83/100\n",
      "Epoch 84/100\n",
      "Epoch 85/100\n",
      "Epoch 86/100\n",
      "Epoch 87/100\n",
      "Epoch 88/100\n",
      "Epoch 89/100\n",
      "Epoch 90/100\n",
      "Epoch 91/100\n",
      "Epoch 92/100\n",
      "Epoch 93/100\n",
      "Epoch 94/100\n",
      "Epoch 95/100\n",
      "Epoch 96/100\n",
      "Epoch 97/100\n",
      "Epoch 98/100\n",
      "Epoch 99/100\n",
      "Epoch 100/100\n"
     ]
    }
   ],
   "source": [
    "history = model.fit(predictors, label, epochs=100, verbose=5)"
   ]
  },
  {
   "cell_type": "markdown",
   "metadata": {
    "id": "zv_MVsWVjXOA"
   },
   "source": [
    "## Entrena"
   ]
  },
  {
   "cell_type": "markdown",
   "metadata": {
    "id": "W36t6rzyN33G"
   },
   "source": [
    "### <span style=\"color: purple;\">Guardamos el modelo</span>"
   ]
  },
  {
   "cell_type": "code",
   "execution_count": 62,
   "metadata": {
    "executionInfo": {
     "elapsed": 868,
     "status": "ok",
     "timestamp": 1622434186014,
     "user": {
      "displayName": "Andres Felipe Nieto Grandas",
      "photoUrl": "https://lh3.googleusercontent.com/a-/AOh14GiVwnHrOcAcuO7hAAvGfu388UdN50UtNnedLL27=s64",
      "userId": "12110662847858295180"
     },
     "user_tz": 300
    },
    "id": "HBM72My-L3V1"
   },
   "outputs": [],
   "source": [
    "model.save('gdrive/My Drive/Colab Notebooks/Reto 5/TextGeneratorModel.h5')"
   ]
  },
  {
   "cell_type": "markdown",
   "metadata": {
    "id": "O25uHl4nNuYG"
   },
   "source": [
    "### <span style=\"color: purple;\">Graficamos la perdida y el accuracy logrado en el entrenamiento</span>"
   ]
  },
  {
   "cell_type": "code",
   "execution_count": 63,
   "metadata": {
    "colab": {
     "base_uri": "https://localhost:8080/",
     "height": 545
    },
    "executionInfo": {
     "elapsed": 416,
     "status": "ok",
     "timestamp": 1622434188439,
     "user": {
      "displayName": "Andres Felipe Nieto Grandas",
      "photoUrl": "https://lh3.googleusercontent.com/a-/AOh14GiVwnHrOcAcuO7hAAvGfu388UdN50UtNnedLL27=s64",
      "userId": "12110662847858295180"
     },
     "user_tz": 300
    },
    "id": "1fXTEO3GJ282",
    "outputId": "69d7638d-f531-4743-d511-c1210e5b3e57"
   },
   "outputs": [
    {
     "data": {
      "image/png": "[encoded data removed]",
      "text/plain": [
       "<Figure size 432x288 with 1 Axes>"
      ]
     },
     "metadata": {
      "needs_background": "light",
      "tags": []
     },
     "output_type": "display_data"
    },
    {
     "data": {
      "image/png": "[encoded data removed]",
      "text/plain": [
       "<Figure size 432x288 with 1 Axes>"
      ]
     },
     "metadata": {
      "needs_background": "light",
      "tags": []
     },
     "output_type": "display_data"
    }
   ],
   "source": [
    "import matplotlib.pyplot as plt\n",
    "acc = model.history.history['accuracy']\n",
    "loss = model.history.history['loss']\n",
    "\n",
    "epochs = range(len(acc))\n",
    "\n",
    "plt.plot(epochs, acc, 'b', label='Training accuracy')\n",
    "plt.title('Training accuracy')\n",
    "\n",
    "plt.figure()\n",
    "\n",
    "plt.plot(epochs, loss, 'b', label='Training Loss')\n",
    "plt.title('Training loss')\n",
    "plt.legend()\n",
    "\n",
    "plt.show()"
   ]
  },
  {
   "cell_type": "markdown",
   "metadata": {
    "id": "9IbCXbwOjXOB"
   },
   "source": [
    "### <span style=\"color: purple;\">Funcion que nos permite generar texto automaticamente</span>"
   ]
  },
  {
   "cell_type": "code",
   "execution_count": 64,
   "metadata": {
    "executionInfo": {
     "elapsed": 163,
     "status": "ok",
     "timestamp": 1622434191354,
     "user": {
      "displayName": "Andres Felipe Nieto Grandas",
      "photoUrl": "https://lh3.googleusercontent.com/a-/AOh14GiVwnHrOcAcuO7hAAvGfu388UdN50UtNnedLL27=s64",
      "userId": "12110662847858295180"
     },
     "user_tz": 300
    },
    "id": "NcVsIkMK-4_P"
   },
   "outputs": [],
   "source": [
    "def generate_text(seed_text, next_words, model, max_sequence_len):\n",
    "    for _ in range(next_words):\n",
    "        token_list = tokenizer.texts_to_sequences([seed_text])[0]\n",
    "        token_list = pad_sequences([token_list], maxlen=max_sequence_len-1, padding='pre')\n",
    "        predicted = model.predict_classes(token_list, verbose=0)\n",
    "        \n",
    "        output_word = \"\"\n",
    "        for word,index in tokenizer.word_index.items():\n",
    "            if index == predicted:\n",
    "                output_word = word\n",
    "                break\n",
    "        seed_text += \" \"+output_word\n",
    "    return seed_text.title()"
   ]
  },
  {
   "cell_type": "markdown",
   "metadata": {
    "id": "uxpm2_6dOFqQ"
   },
   "source": [
    "### <span style=\"color: purple;\">Generamos el texto</span>"
   ]
  },
  {
   "cell_type": "code",
   "execution_count": 65,
   "metadata": {
    "colab": {
     "base_uri": "https://localhost:8080/"
    },
    "executionInfo": {
     "elapsed": 3387,
     "status": "ok",
     "timestamp": 1622434196588,
     "user": {
      "displayName": "Andres Felipe Nieto Grandas",
      "photoUrl": "https://lh3.googleusercontent.com/a-/AOh14GiVwnHrOcAcuO7hAAvGfu388UdN50UtNnedLL27=s64",
      "userId": "12110662847858295180"
     },
     "user_tz": 300
    },
    "id": "HnTZJLEM-7yV",
    "outputId": "741a4460-03d8-4cf2-cd64-60d7221b2ec6"
   },
   "outputs": [
    {
     "name": "stderr",
     "output_type": "stream",
     "text": [
      "/usr/local/lib/python3.7/dist-packages/tensorflow/python/keras/engine/sequential.py:455: UserWarning: `model.predict_classes()` is deprecated and will be removed after 2021-01-01. Please use instead:* `np.argmax(model.predict(x), axis=-1)`,   if your model does multi-class classification   (e.g. if it uses a `softmax` last-layer activation).* `(model.predict(x) > 0.5).astype(\"int32\")`,   if your model does binary classification   (e.g. if it uses a `sigmoid` last-layer activation).\n",
      "  warnings.warn('`model.predict_classes()` is deprecated and '\n"
     ]
    },
    {
     "name": "stdout",
     "output_type": "stream",
     "text": [
      "Las Cosas Pasan Por Algo Que Hay Mujer Sobre Tu Chiri Al Interruptor Se Muerto Eran Viejos De Treinta Y Pico Pero Parecían Más Jóvenes Lo Habían Escucháme Es Noche Ha Enseñamos A Preparar Cuatro Platos Argentinos De Fama Mundial A Punto De Dejar El Equipo En Las Eliminatorias —Por La Presión Exagerada Y Las\n"
     ]
    }
   ],
   "source": [
    "print (generate_text(\"las cosas pasan por algo\", 50, model, max_sequence_len))"
   ]
  }
 ],
 "metadata": {
  "accelerator": "GPU",
  "colab": {
   "name": "GeneradorDeTexto_AG.ipynb",
   "provenance": []
  },
  "kernelspec": {
   "display_name": "Python 3",
   "language": "python",
   "name": "python3"
  },
  "language_info": {
   "codemirror_mode": {
    "name": "ipython",
    "version": 3
   },
   "file_extension": ".py",
   "mimetype": "text/x-python",
   "name": "python",
   "nbconvert_exporter": "python",
   "pygments_lexer": "ipython3",
   "version": "3.8.8"
  }
 },
 "nbformat": 4,
 "nbformat_minor": 4
}
