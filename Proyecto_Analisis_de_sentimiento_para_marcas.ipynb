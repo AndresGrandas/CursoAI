{
  "nbformat": 4,
  "nbformat_minor": 0,
  "metadata": {
    "colab": {
      "name": "Proyecto_Analisis_de_sentimiento_para_marcas.ipynb",
      "provenance": [],
      "collapsed_sections": [],
      "include_colab_link": true
    },
    "kernelspec": {
      "name": "python3",
      "display_name": "Python 3"
    },
    "language_info": {
      "name": "python"
    }
  },
  "cells": [
    {
      "cell_type": "markdown",
      "metadata": {
        "id": "view-in-github",
        "colab_type": "text"
      },
      "source": [
        "<a href=\"https://colab.research.google.com/github/AndresGrandas/CursoAI/blob/main/Proyecto_Analisis_de_sentimiento_para_marcas.ipynb\" target=\"_parent\"><img src=\"https://colab.research.google.com/assets/colab-badge.svg\" alt=\"Open In Colab\"/></a>"
      ]
    },
    {
      "cell_type": "markdown",
      "metadata": {
        "id": "nBzXHwHseYnb"
      },
      "source": [
        "# **Diplomado en Inteligencia Artificial y Aprendizaje Profundo**\n",
        "\n",
        "## Universidad Nacional de Colombia\n",
        "### Bogotá, 2021\n",
        "\n",
        "\n",
        "\n",
        "---\n",
        "\n",
        "\n",
        "\n",
        "---\n",
        "\n",
        "\n",
        "\n"
      ]
    },
    {
      "cell_type": "markdown",
      "metadata": {
        "id": "_dphHYb5ejJR"
      },
      "source": [
        "* **Nombre del Proyecto:**  *Asistente de voz para la clasificación y análisis de reseñas para comercios y productos con la finalidad de determinar el posicionamiento de una marca.*\n",
        "\n",
        "\n",
        "* **Integrantes:**\n",
        "  \n",
        "  * Leidy Natalia León Carvajal (lnleonc@unal.edu.co)\n",
        "  * Juan Pablo Mojica Macías (juanpablomojicam@gmail.com)\n",
        "  * Andrés Felipe Nieto Grandas (andresfgrandas@gmail.com)\n",
        "  * Danile Alejandro Osuna Garzón (daosunag@unal.edu.co)\n",
        "\n",
        "\n",
        "* **Descripción General:** Empleando las técnicas para el análsis de sentimiento y el procesamiento de lenguaje natural, se pretende desarrollar una máquina que pueda diferenciar las opiniones de clientes frente a productos y comercios, con la finalidad de emitir recomendaciones por voz y generar un ranking de posicionamiento de marca.\n"
      ]
    },
    {
      "cell_type": "markdown",
      "metadata": {
        "id": "ZtirXwp4X3H-"
      },
      "source": [
        "### Fuentes\n",
        "\n",
        "1.   [The Ultimate Guide To Speech Recognition With Python](https://realpython.com/python-speech-recognition/)\n",
        "2.   [Audio Data Analysis Using Deep Learning with Python](https://www.kdnuggets.com/2020/02/audio-data-analysis-deep-learning-python-part-1.html) (Clasifica géneros de musica)\n",
        "\n",
        "### Recursos\n",
        "\n",
        "\n",
        "1.   [Sentiment Analysis on Movie Reviews](https://www.kaggle.com/c/sentiment-analysis-on-movie-reviews) Se enfoca mas hacia el senitmiento de la persona ( Feliz, triste, enojado, sorprendido,...)\n",
        "2.   [Unsupervised Sentiment Analisys using Vader](https://www.kaggle.com/hassanamin/unsupervised-sentiment-analysis-using-vader)\n",
        "\n",
        "2.   [Speech representation and data exploration](https://www.kaggle.com/davids1992/speech-representation-and-data-exploration) Ejemplo de traductor voz a texto\n",
        "\n",
        "### Recomendaciones del Teacher \n",
        "\n",
        "* Segun el profesor debemos atacar dos temas y unificarlos para lograr nuestro objetivo, 1. es procesar el lenguaje natural y analisis de sentimientos ya sea de manera audio a texto o solo texto, 2. Utilizar tecnicas de analisis de datos o utilizando autoencoders para procesar datos de posicionamiento de marcas.\n",
        "Finalmente se busca unificar los dos para realizar el posicionamiento en base a el analisis de sentimiento.\n",
        "\n",
        "1. Buscar apis para el manejo de audio a texto libres y gratuitas.\n",
        "2. Analisis de posicionamiento con mapas factoriales dadas un conjunto de variables se construyen mapas perceptuales en donde se ubican las instituciones de acuerdo a esas caracteristicas.\n",
        "\n",
        "\n",
        "\n",
        "\n"
      ]
    },
    {
      "cell_type": "markdown",
      "metadata": {
        "id": "cdFi_U2QituF"
      },
      "source": [
        "###  recomendaciones del profe"
      ]
    },
    {
      "cell_type": "code",
      "metadata": {
        "id": "w4ynhVgxixZ-"
      },
      "source": [
        ""
      ],
      "execution_count": null,
      "outputs": []
    }
  ]
}